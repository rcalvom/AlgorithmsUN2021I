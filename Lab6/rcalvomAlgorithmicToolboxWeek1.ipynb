{
  "nbformat": 4,
  "nbformat_minor": 0,
  "metadata": {
    "colab": {
      "name": "rcalvomAlgorithmicToolboxWeek1.ipynb",
      "provenance": [],
      "collapsed_sections": []
    },
    "kernelspec": {
      "name": "python3",
      "display_name": "Python 3"
    },
    "language_info": {
      "name": "python"
    }
  },
  "cells": [
    {
      "cell_type": "markdown",
      "metadata": {
        "id": "3v3G_NgimwJ3"
      },
      "source": [
        "# **Algorithmic Toolbox**"
      ]
    },
    {
      "cell_type": "markdown",
      "metadata": {
        "id": "mrklDqdfm9dl"
      },
      "source": [
        "## Week1"
      ]
    },
    {
      "cell_type": "markdown",
      "metadata": {
        "id": "SuuN3eHimgVT"
      },
      "source": [
        "### Sum of two digits"
      ]
    },
    {
      "cell_type": "markdown",
      "metadata": {
        "id": "QZdGHL56nIEN"
      },
      "source": [
        "Compute the sum of two single digit numbers.\n",
        "\n",
        "**Input:** Two single digit numbers.  \n",
        "**Output:** The sum of these numbers."
      ]
    },
    {
      "cell_type": "markdown",
      "metadata": {
        "id": "QR3OBdWsoRHa"
      },
      "source": [
        "#### Solution in C++"
      ]
    },
    {
      "cell_type": "markdown",
      "metadata": {
        "id": "nGbv5YVdoxbL"
      },
      "source": [
        "Writting *main.cpp* file."
      ]
    },
    {
      "cell_type": "code",
      "metadata": {
        "colab": {
          "base_uri": "https://localhost:8080/"
        },
        "id": "1GFa9foOnHEc",
        "outputId": "8d8f69bd-be86-4dab-b9b8-272262671e8d"
      },
      "source": [
        "%%writefile main.cpp\n",
        "#include <iostream>\n",
        "\n",
        "using namespace std;\n",
        "\n",
        "int main() {\n",
        "    int a, b;\n",
        "    cin >> a >> b;\n",
        "    cout << a + b << endl;\n",
        "    return 0;\n",
        "}"
      ],
      "execution_count": null,
      "outputs": [
        {
          "output_type": "stream",
          "text": [
            "Writing main.cpp\n"
          ],
          "name": "stdout"
        }
      ]
    },
    {
      "cell_type": "markdown",
      "metadata": {
        "id": "GPZuv1wFo5qS"
      },
      "source": [
        "Compile *main.cpp* file into *main* executable."
      ]
    },
    {
      "cell_type": "code",
      "metadata": {
        "id": "jWuM3Maco5R7"
      },
      "source": [
        "!g++ main.cpp -o main"
      ],
      "execution_count": null,
      "outputs": []
    },
    {
      "cell_type": "markdown",
      "metadata": {
        "id": "5VLGSaK0pY9P"
      },
      "source": [
        "Create test files."
      ]
    },
    {
      "cell_type": "code",
      "metadata": {
        "colab": {
          "base_uri": "https://localhost:8080/"
        },
        "id": "EMHChuRCpYXi",
        "outputId": "27ad6bfa-b98a-407c-ab90-32330309c7cb"
      },
      "source": [
        "%%writefile test1.in\n",
        "2 3"
      ],
      "execution_count": null,
      "outputs": [
        {
          "output_type": "stream",
          "text": [
            "Writing test1.in\n"
          ],
          "name": "stdout"
        }
      ]
    },
    {
      "cell_type": "code",
      "metadata": {
        "colab": {
          "base_uri": "https://localhost:8080/"
        },
        "id": "jmvzVby-ps3G",
        "outputId": "0348a1a8-00fa-40a8-c145-4e58e9f11292"
      },
      "source": [
        "%%writefile test1.out\n",
        "5"
      ],
      "execution_count": null,
      "outputs": [
        {
          "output_type": "stream",
          "text": [
            "Writing test1.out\n"
          ],
          "name": "stdout"
        }
      ]
    },
    {
      "cell_type": "markdown",
      "metadata": {
        "id": "vCyN9VWVp06S"
      },
      "source": [
        "Executing test."
      ]
    },
    {
      "cell_type": "code",
      "metadata": {
        "id": "z4BGcEa2p0Zi"
      },
      "source": [
        "!./main < test1.in > result.out\n",
        "!grep -xvFf test1.out result.out"
      ],
      "execution_count": null,
      "outputs": []
    },
    {
      "cell_type": "markdown",
      "metadata": {
        "id": "fbOduF6zqaRm"
      },
      "source": [
        "No result. The answer is correct!"
      ]
    },
    {
      "cell_type": "markdown",
      "metadata": {
        "id": "mStjUn3RqhFk"
      },
      "source": [
        "#### Solution in python"
      ]
    },
    {
      "cell_type": "markdown",
      "metadata": {
        "id": "Trv9mWM7qo2K"
      },
      "source": [
        "Writting main.py file."
      ]
    },
    {
      "cell_type": "code",
      "metadata": {
        "colab": {
          "base_uri": "https://localhost:8080/"
        },
        "id": "PrJMO9Evqfam",
        "outputId": "b372943c-092a-4c23-b42f-ff8dd98262be"
      },
      "source": [
        "%%writefile main.py\n",
        "a, b = map(int, input().split())\n",
        "print(a + b)"
      ],
      "execution_count": null,
      "outputs": [
        {
          "output_type": "stream",
          "text": [
            "Overwriting main.py\n"
          ],
          "name": "stdout"
        }
      ]
    },
    {
      "cell_type": "markdown",
      "metadata": {
        "id": "zF6BxfGYqy7a"
      },
      "source": [
        "Create test files."
      ]
    },
    {
      "cell_type": "code",
      "metadata": {
        "colab": {
          "base_uri": "https://localhost:8080/"
        },
        "id": "ZTnZ3_pNqzuq",
        "outputId": "7a9b01be-2713-402b-dff2-3a55a0a5f6f6"
      },
      "source": [
        "%%writefile test1.in\n",
        "2 3"
      ],
      "execution_count": null,
      "outputs": [
        {
          "output_type": "stream",
          "text": [
            "Overwriting test1.in\n"
          ],
          "name": "stdout"
        }
      ]
    },
    {
      "cell_type": "code",
      "metadata": {
        "colab": {
          "base_uri": "https://localhost:8080/"
        },
        "id": "8mzrB61_q0Ud",
        "outputId": "59857630-c670-4517-b854-5cf17c0fb35c"
      },
      "source": [
        "%%writefile test1.out\n",
        "5"
      ],
      "execution_count": null,
      "outputs": [
        {
          "output_type": "stream",
          "text": [
            "Overwriting test1.out\n"
          ],
          "name": "stdout"
        }
      ]
    },
    {
      "cell_type": "markdown",
      "metadata": {
        "id": "PNzr-UGSq0nr"
      },
      "source": [
        "Executing test."
      ]
    },
    {
      "cell_type": "code",
      "metadata": {
        "id": "ImY2WtMKsBQf"
      },
      "source": [
        "!python main.py < test1.in > result.out\n",
        "!grep -xvFf test1.out result.out"
      ],
      "execution_count": null,
      "outputs": []
    },
    {
      "cell_type": "markdown",
      "metadata": {
        "id": "v2cqrRQOqssw"
      },
      "source": [
        "No result. The answer is correct!"
      ]
    },
    {
      "cell_type": "markdown",
      "metadata": {
        "id": "JE4zjYPxs62e"
      },
      "source": [
        "###Maximum Pairwise Product"
      ]
    },
    {
      "cell_type": "markdown",
      "metadata": {
        "id": "wZ9EbCvstBiS"
      },
      "source": [
        "Find the maximum product of two distinct numbers in a sequence of non-negative integers.\n",
        "\n",
        "**Input:** A sequence of non-negative integers.  \n",
        "**Output:** The maximum value that can be obtained by multiplying two different elements from the sequence."
      ]
    },
    {
      "cell_type": "markdown",
      "metadata": {
        "id": "DDd5GusYtP-W"
      },
      "source": [
        "####Solution in C++"
      ]
    },
    {
      "cell_type": "markdown",
      "metadata": {
        "id": "gP1YZQxstavQ"
      },
      "source": [
        "Writting *main.cpp* file."
      ]
    },
    {
      "cell_type": "code",
      "metadata": {
        "colab": {
          "base_uri": "https://localhost:8080/"
        },
        "id": "CBWQQVEZtPva",
        "outputId": "089822ed-3876-4603-9a46-d3c403a2bcd1"
      },
      "source": [
        "%%writefile main.cpp\n",
        "\n",
        "#include <iostream>\n",
        "\n",
        "using namespace std;\n",
        "\n",
        "long long max_product(long long* numbers, int n){\n",
        "    long long max1 = -1;\n",
        "    long long max2 = -1;\n",
        "    for(int i = 0; i < n; i++){\n",
        "        if(*(numbers + i) >= max1){\n",
        "            max2 = max1;\n",
        "            max1 = *(numbers + i);\n",
        "        }else if(*(numbers + i) >= max2){\n",
        "            max2 = *(numbers + i);\n",
        "        }\n",
        "    }\n",
        "    return max1 * max2;\n",
        "}\n",
        "\n",
        "int main(){\n",
        "    int n;\n",
        "    cin >> n;\n",
        "    long long* numbers = (long long*) malloc(n * sizeof(long long));\n",
        "    for(int i = 0; i < n; i++){\n",
        "        cin >> *(numbers + i);\n",
        "    }\n",
        "    long long result = max_product(numbers, n);\n",
        "    cout << result << endl;\n",
        "    free(numbers);\n",
        "    return 0;\n",
        "}"
      ],
      "execution_count": 40,
      "outputs": [
        {
          "output_type": "stream",
          "text": [
            "Overwriting main.cpp\n"
          ],
          "name": "stdout"
        }
      ]
    },
    {
      "cell_type": "markdown",
      "metadata": {
        "id": "_ToNRENSuSEK"
      },
      "source": [
        "Compile *main.cpp* file into *main* executable."
      ]
    },
    {
      "cell_type": "code",
      "metadata": {
        "id": "Rb-OAjz1uhb4"
      },
      "source": [
        "!g++ main.cpp -o main"
      ],
      "execution_count": 41,
      "outputs": []
    },
    {
      "cell_type": "markdown",
      "metadata": {
        "id": "Nqgamj-Juhb5"
      },
      "source": [
        "Create test files."
      ]
    },
    {
      "cell_type": "code",
      "metadata": {
        "colab": {
          "base_uri": "https://localhost:8080/"
        },
        "id": "TPmPRUNVuhb7",
        "outputId": "8b792c16-c0d4-42ae-e89d-06dff5e609f9"
      },
      "source": [
        "%%writefile test1.in\n",
        "5\n",
        "1 3 200000 9 200000 23"
      ],
      "execution_count": 42,
      "outputs": [
        {
          "output_type": "stream",
          "text": [
            "Overwriting test1.in\n"
          ],
          "name": "stdout"
        }
      ]
    },
    {
      "cell_type": "code",
      "metadata": {
        "colab": {
          "base_uri": "https://localhost:8080/"
        },
        "id": "oeZ5BrGCuhb8",
        "outputId": "f769401e-87ce-45bd-bcd6-e8674e9df215"
      },
      "source": [
        "%%writefile test1.out\n",
        "40000000000"
      ],
      "execution_count": 43,
      "outputs": [
        {
          "output_type": "stream",
          "text": [
            "Overwriting test1.out\n"
          ],
          "name": "stdout"
        }
      ]
    },
    {
      "cell_type": "markdown",
      "metadata": {
        "id": "7OffLZPtuhb-"
      },
      "source": [
        "Executing test."
      ]
    },
    {
      "cell_type": "code",
      "metadata": {
        "id": "PxC0DCmEuhb_"
      },
      "source": [
        "!./main < test1.in > result.out\n",
        "!grep -xvFf test1.out result.out"
      ],
      "execution_count": 44,
      "outputs": []
    },
    {
      "cell_type": "markdown",
      "metadata": {
        "id": "Jlsx4knxuhcA"
      },
      "source": [
        "No result. The answer is correct!"
      ]
    },
    {
      "cell_type": "markdown",
      "metadata": {
        "id": "VGwFfX4ovaLz"
      },
      "source": [
        "#### Solution in python"
      ]
    },
    {
      "cell_type": "markdown",
      "metadata": {
        "id": "DiCgfd7EvaL0"
      },
      "source": [
        "Writting main.py file."
      ]
    },
    {
      "cell_type": "code",
      "metadata": {
        "colab": {
          "base_uri": "https://localhost:8080/"
        },
        "id": "YM5dA5mPvaL2",
        "outputId": "cc42f57c-64c3-4761-d569-891357c23b86"
      },
      "source": [
        "%%writefile main.py\n",
        "def solve(a):\n",
        "    max1 = -1\n",
        "    max2 = -1\n",
        "    n = len(a)\n",
        "    for i in range(n):\n",
        "      if a[i] >= max1:\n",
        "        max2 = max1\n",
        "        max1 = a[i]\n",
        "      elif a[i] >= max2:\n",
        "        max2 = a[i]\n",
        "    return max1 * max2;\n",
        "\n",
        "\n",
        "if __name__ == '__main__':\n",
        "    n = int(input())\n",
        "    a = [int(x) for x in input().split(\" \")]\n",
        "    print(solve(a))"
      ],
      "execution_count": 25,
      "outputs": [
        {
          "output_type": "stream",
          "text": [
            "Overwriting main.py\n"
          ],
          "name": "stdout"
        }
      ]
    },
    {
      "cell_type": "markdown",
      "metadata": {
        "id": "7dm6ttPEvaL3"
      },
      "source": [
        "Create test files."
      ]
    },
    {
      "cell_type": "code",
      "metadata": {
        "colab": {
          "base_uri": "https://localhost:8080/"
        },
        "id": "8ZC1ChS4vaL4",
        "outputId": "004fc68b-6125-46b1-8ef2-cd321eeff624"
      },
      "source": [
        "%%writefile test1.in\n",
        "5\n",
        "1 3 200000 9 200000 23"
      ],
      "execution_count": 2,
      "outputs": [
        {
          "output_type": "stream",
          "text": [
            "Overwriting test1.in\n"
          ],
          "name": "stdout"
        }
      ]
    },
    {
      "cell_type": "code",
      "metadata": {
        "colab": {
          "base_uri": "https://localhost:8080/"
        },
        "id": "vD1x7Z8LvaL5",
        "outputId": "ffbd5dc4-c606-45fa-862b-8bbe9d7ae4c4"
      },
      "source": [
        "%%writefile test1.out\n",
        "40000000000"
      ],
      "execution_count": 3,
      "outputs": [
        {
          "output_type": "stream",
          "text": [
            "Overwriting test1.out\n"
          ],
          "name": "stdout"
        }
      ]
    },
    {
      "cell_type": "code",
      "metadata": {
        "id": "jzUFD-3A4F9h"
      },
      "source": [
        "import random\n",
        "\n",
        "n = 200000\n",
        "l = []\n",
        "max1 = -1\n",
        "max2 = -1\n",
        "\n",
        "for i in range(n):\n",
        "  x = random.randint(0, n)\n",
        "  l.append(str(x))\n",
        "  if x >= max1:\n",
        "    max2 = max1\n",
        "    max1 = x\n",
        "  elif x >= max2:\n",
        "    max2 = x\n",
        "\n",
        "fin = open(\"test2.in\", \"w\")\n",
        "fout = open(\"test2.out\", \"w\")\n",
        "\n",
        "fin.write(str(n) + \"\\n\" + \" \".join(l))\n",
        "fout.write(str(max1 * max2))\n",
        "\n",
        "fin.close()\n",
        "fout.close()"
      ],
      "execution_count": 44,
      "outputs": []
    },
    {
      "cell_type": "markdown",
      "metadata": {
        "id": "0rQAKVl-vaL6"
      },
      "source": [
        "Executing test."
      ]
    },
    {
      "cell_type": "code",
      "metadata": {
        "id": "z9C3jIQOvaL7"
      },
      "source": [
        "!python main.py < test1.in > result.out\n",
        "!grep -xvFf test1.out result.out\n",
        "\n",
        "!python main.py < test2.in > result.out\n",
        "!grep -xvFf test2.out result.out"
      ],
      "execution_count": 46,
      "outputs": []
    },
    {
      "cell_type": "markdown",
      "metadata": {
        "id": "oHjHFZuOvaL8"
      },
      "source": [
        "No result. The answer is correct!"
      ]
    },
    {
      "cell_type": "markdown",
      "metadata": {
        "id": "XxGJlSnKKVAq"
      },
      "source": [
        "#### Solution in C++ (Inefficient)"
      ]
    },
    {
      "cell_type": "markdown",
      "metadata": {
        "id": "tjwf8z_sKqjF"
      },
      "source": [
        "Writting main.py file."
      ]
    },
    {
      "cell_type": "code",
      "metadata": {
        "colab": {
          "base_uri": "https://localhost:8080/"
        },
        "id": "qHhuis3qKqjH",
        "outputId": "02e9a4b4-3556-47bc-8702-7f1284c66d26"
      },
      "source": [
        "%%writefile main.cpp\n",
        "#include <iostream>\n",
        "#include <vector>\n",
        "#include <algorithm>\n",
        "\n",
        "long long MaxPairwiseProduct(const std::vector<int>& numbers) {\n",
        "    long long max_product = 0LL;\n",
        "\t  long long aux_product = 0LL;\n",
        "    int n = numbers.size();\n",
        "\n",
        "    for (int first = 0; first < n; ++first) {\n",
        "        for (int second = first + 1; second < n; ++second) {\n",
        "\t\t\t       aux_product =  (long long) numbers[first] * numbers[second];\n",
        "            if ( max_product < aux_product)  {\n",
        "\t\t\t\t        max_product = aux_product;\n",
        "             }\n",
        "        }\n",
        "    }\n",
        "\n",
        "    return max_product;\n",
        "}\n",
        "\n",
        "int main() {\n",
        "    int n;\n",
        "    std::cin >> n;\n",
        "    std::vector<int> numbers(n);\n",
        "    for (int i = 0; i < n; ++i) {\n",
        "        std::cin >> numbers[i];\n",
        "    }\n",
        "\n",
        "    std::cout << MaxPairwiseProduct(numbers) << \"\\n\";\n",
        "    return 0;\n",
        "}\n"
      ],
      "execution_count": 53,
      "outputs": [
        {
          "output_type": "stream",
          "text": [
            "Overwriting main.cpp\n"
          ],
          "name": "stdout"
        }
      ]
    },
    {
      "cell_type": "markdown",
      "metadata": {
        "id": "nDkarx6ELIhS"
      },
      "source": [
        "Compile *main.cpp* file into *main* executable."
      ]
    },
    {
      "cell_type": "code",
      "metadata": {
        "id": "7rJz3RVhLIhT"
      },
      "source": [
        "!g++ main.cpp -o main"
      ],
      "execution_count": 54,
      "outputs": []
    },
    {
      "cell_type": "markdown",
      "metadata": {
        "id": "MmNDu5sNKqjI"
      },
      "source": [
        "Create test files."
      ]
    },
    {
      "cell_type": "code",
      "metadata": {
        "colab": {
          "base_uri": "https://localhost:8080/"
        },
        "id": "-VD1HlIUKqjI",
        "outputId": "d46055be-63bb-4f7e-ed53-593a9902e0ea"
      },
      "source": [
        "%%writefile test1.in\n",
        "5\n",
        "1 3 200000 9 200000 23"
      ],
      "execution_count": 55,
      "outputs": [
        {
          "output_type": "stream",
          "text": [
            "Overwriting test1.in\n"
          ],
          "name": "stdout"
        }
      ]
    },
    {
      "cell_type": "code",
      "metadata": {
        "colab": {
          "base_uri": "https://localhost:8080/"
        },
        "id": "5ynd2XheKqjL",
        "outputId": "5abe3f3c-1a26-4d93-c92b-92e412571b7a"
      },
      "source": [
        "%%writefile test1.out\n",
        "40000000000"
      ],
      "execution_count": 56,
      "outputs": [
        {
          "output_type": "stream",
          "text": [
            "Overwriting test1.out\n"
          ],
          "name": "stdout"
        }
      ]
    },
    {
      "cell_type": "code",
      "metadata": {
        "id": "rpDj9KrKKqjN"
      },
      "source": [
        "import random\n",
        "\n",
        "n = 200000\n",
        "l = []\n",
        "max1 = -1\n",
        "max2 = -1\n",
        "\n",
        "for i in range(n):\n",
        "  x = random.randint(0, n)\n",
        "  l.append(str(x))\n",
        "  if x >= max1:\n",
        "    max2 = max1\n",
        "    max1 = x\n",
        "  elif x >= max2:\n",
        "    max2 = x\n",
        "\n",
        "fin = open(\"test2.in\", \"w\")\n",
        "fout = open(\"test2.out\", \"w\")\n",
        "\n",
        "fin.write(str(n) + \"\\n\" + \" \".join(l))\n",
        "fout.write(str(max1 * max2))\n",
        "\n",
        "fin.close()\n",
        "fout.close()"
      ],
      "execution_count": 57,
      "outputs": []
    },
    {
      "cell_type": "markdown",
      "metadata": {
        "id": "6nep3S80KqjN"
      },
      "source": [
        "Executing test."
      ]
    },
    {
      "cell_type": "code",
      "metadata": {
        "colab": {
          "base_uri": "https://localhost:8080/"
        },
        "id": "88O19q7eKqjN",
        "outputId": "3be69b44-a52d-4d69-f6b4-0e5e845608ab"
      },
      "source": [
        "%%time\n",
        "!./main < test1.in > result.out\n",
        "!grep -xvFf test1.out result.out\n",
        "\n",
        "!./main < test2.in > result.out\n",
        "!grep -xvFf test2.out result.out"
      ],
      "execution_count": 61,
      "outputs": [
        {
          "output_type": "stream",
          "text": [
            "CPU times: user 273 ms, sys: 69.2 ms, total: 343 ms\n",
            "Wall time: 2min 7s\n"
          ],
          "name": "stdout"
        }
      ]
    },
    {
      "cell_type": "markdown",
      "metadata": {
        "id": "stTZUwDUKqjN"
      },
      "source": [
        "No result. The answer is correct!"
      ]
    }
  ]
}