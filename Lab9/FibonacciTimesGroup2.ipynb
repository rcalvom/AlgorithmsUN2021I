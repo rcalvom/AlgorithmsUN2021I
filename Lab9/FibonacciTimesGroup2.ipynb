{
  "nbformat": 4,
  "nbformat_minor": 0,
  "metadata": {
    "colab": {
      "name": "FibonacciTimesGroup2.ipynb",
      "provenance": [],
      "authorship_tag": "ABX9TyMC06IFAFyqn2hok6TnhdSD",
      "include_colab_link": true
    },
    "kernelspec": {
      "name": "python3",
      "display_name": "Python 3"
    },
    "language_info": {
      "name": "python"
    }
  },
  "cells": [
    {
      "cell_type": "markdown",
      "metadata": {
        "id": "view-in-github",
        "colab_type": "text"
      },
      "source": [
        "<a href=\"https://colab.research.google.com/github/rcalvom/AlgorithmsUN2021I/blob/master/Lab9/FibonacciTimesGroup2.ipynb\" target=\"_parent\"><img src=\"https://colab.research.google.com/assets/colab-badge.svg\" alt=\"Open In Colab\"/></a>"
      ]
    },
    {
      "cell_type": "markdown",
      "metadata": {
        "id": "C8X6uhPYjTow"
      },
      "source": [
        "#LAB 9 Bubble Sort distribution -Fibonacci time\n"
      ]
    },
    {
      "cell_type": "markdown",
      "metadata": {
        "id": "w2P96Km5jVBv"
      },
      "source": [
        "##Fibonacci Times"
      ]
    },
    {
      "cell_type": "markdown",
      "metadata": {
        "id": "6aHmXPmLjkXz"
      },
      "source": [
        "###Recursive Fibonacci"
      ]
    },
    {
      "cell_type": "code",
      "metadata": {
        "id": "ThO8OepQjkGe"
      },
      "source": [
        "def Recursive_Fibonacci(n):\n",
        "  if n == 0:\n",
        "    return 0\n",
        "  if n == 1:\n",
        "    return 1\n",
        "  return Recursive_Fibonacci(n - 1) + Recursive_Fibonacci(n - 2)"
      ],
      "execution_count": 1,
      "outputs": []
    },
    {
      "cell_type": "markdown",
      "metadata": {
        "id": "UFO3JqtxlLKn"
      },
      "source": [
        "Calculating the time"
      ]
    },
    {
      "cell_type": "code",
      "metadata": {
        "colab": {
          "base_uri": "https://localhost:8080/"
        },
        "id": "UpyAHuFzlKsF",
        "outputId": "61b401bd-eafa-423d-c790-a615c63c49e9"
      },
      "source": [
        "from time import process_time\n",
        "\n",
        "n = 50\n",
        "initial_time = process_time() \n",
        "Recursive_F = Recursive_Fibonacci(n)\n",
        "final_time = process_time() \n",
        "print(\"n = {0}, F({0}) = {1} time = {2} seconds\".format(n, Recursive_F, final_time - initial_time))"
      ],
      "execution_count": 3,
      "outputs": [
        {
          "output_type": "stream",
          "text": [
            "n = 50, F(50) = 12586269025 time = 5918.899364155999 seconds\n"
          ],
          "name": "stdout"
        }
      ]
    },
    {
      "cell_type": "markdown",
      "metadata": {
        "id": "pLGkpgVoj06X"
      },
      "source": [
        "### Linear Iterative Fibonacci"
      ]
    },
    {
      "cell_type": "code",
      "metadata": {
        "id": "jLSN6P0Mj7Bz"
      },
      "source": [
        "def Linear_Fibonacci(n):\n",
        "  if n == 0:\n",
        "    return 0\n",
        "  a, b = 0, 1\n",
        "  for i in range(1, n):\n",
        "    a, b = b, a + b\n",
        "  return b"
      ],
      "execution_count": 4,
      "outputs": []
    },
    {
      "cell_type": "markdown",
      "metadata": {
        "id": "eDI09IKYnDcd"
      },
      "source": [
        "Calculating the time"
      ]
    },
    {
      "cell_type": "code",
      "metadata": {
        "colab": {
          "base_uri": "https://localhost:8080/"
        },
        "id": "Qb9GEFQ_nE-I",
        "outputId": "9ee1d590-d79f-4758-838a-526687a959d4"
      },
      "source": [
        "from time import process_time\n",
        "\n",
        "n = 1000\n",
        "initial_time = process_time() \n",
        "Linear_F = Linear_Fibonacci(n)\n",
        "final_time = process_time() \n",
        "print(\"n = {0}, F({0}) = {1} time = {2} seconds\".format(n, Linear_F, final_time - initial_time))"
      ],
      "execution_count": 5,
      "outputs": [
        {
          "output_type": "stream",
          "text": [
            "n = 1000, F(1000) = 43466557686937456435688527675040625802564660517371780402481729089536555417949051890403879840079255169295922593080322634775209689623239873322471161642996440906533187938298969649928516003704476137795166849228875 time = 0.00012103300014132401 seconds\n"
          ],
          "name": "stdout"
        }
      ]
    },
    {
      "cell_type": "markdown",
      "metadata": {
        "id": "fO_iDYvmj71y"
      },
      "source": [
        "### Logarithmic Iterative Fibonacci (Dynamic programming)\n"
      ]
    },
    {
      "cell_type": "code",
      "metadata": {
        "id": "up89vKp4kG5o"
      },
      "source": [
        "def Logarithmic_Fibonacci(n):\n",
        "    memory = {}\n",
        "    def F(n):\n",
        "        if n == 0:\n",
        "            return 0\n",
        "        if n == 1:\n",
        "            return 1\n",
        "        if (n - 2) not in memory:\n",
        "            memory[n - 2] = F(n - 2)\n",
        "        if (n - 1) not in memory:\n",
        "            memory[n - 1] = F(n - 1)\n",
        "        return memory[n - 1] + memory[n - 2]\n",
        "    return F(n)"
      ],
      "execution_count": 6,
      "outputs": []
    },
    {
      "cell_type": "markdown",
      "metadata": {
        "id": "RE4FY-iWnPCF"
      },
      "source": [
        "Calculating the time"
      ]
    },
    {
      "cell_type": "code",
      "metadata": {
        "colab": {
          "base_uri": "https://localhost:8080/"
        },
        "id": "vGW2ncisnOrO",
        "outputId": "581bf34e-f446-403c-e9e5-e6bd00db72ec"
      },
      "source": [
        "from time import process_time\n",
        "\n",
        "n = 1000\n",
        "initial_time = process_time() \n",
        "Logarithmic_F = Logarithmic_Fibonacci(n)\n",
        "final_time = process_time() \n",
        "print(\"n = {0}, F({0}) = {1} time = {2} seconds\".format(n, Logarithmic_F, final_time - initial_time))"
      ],
      "execution_count": 7,
      "outputs": [
        {
          "output_type": "stream",
          "text": [
            "n = 1000, F(1000) = 43466557686937456435688527675040625802564660517371780402481729089536555417949051890403879840079255169295922593080322634775209689623239873322471161642996440906533187938298969649928516003704476137795166849228875 time = 0.002542274000006728 seconds\n"
          ],
          "name": "stdout"
        }
      ]
    }
  ]
}