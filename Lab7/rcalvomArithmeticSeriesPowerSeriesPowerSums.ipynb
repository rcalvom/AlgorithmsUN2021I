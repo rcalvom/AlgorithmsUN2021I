{
  "nbformat": 4,
  "nbformat_minor": 0,
  "metadata": {
    "colab": {
      "name": "rcalvomArithmeticSeriesPowerSeriesPowerSums.ipynb",
      "provenance": [],
      "collapsed_sections": []
    },
    "kernelspec": {
      "name": "python3",
      "display_name": "Python 3"
    }
  },
  "cells": [
    {
      "cell_type": "markdown",
      "metadata": {
        "id": "r4rXWI4gCN5B"
      },
      "source": [
        "# Arithmetic Series\n",
        "\n",
        "## Modified from Arithmetic Series -  [Wolfram MathWorld](https://mathworld.wolfram.com/ArithmeticSeries.html)\n",
        "\n",
        "\n",
        "An arithmetic sequence $\\{a_k\\}$ for $k=1, 2, ..., $ in which each term is computed from the previous one by adding (or subtracting) a constant $d$. \n",
        "\n",
        "\\begin{align*}\n",
        "a_1 & \\\\\n",
        "a_2 &\\ \\ =\\ \\ a_1 + d  \\\\\n",
        "a_3 &\\ \\ =\\ \\ a_2 + d \\ \\ =\\ \\ a_1 + 2d   \\\\\n",
        "a_4 &\\ \\ =\\ \\ a_3 + d \\ \\ =\\ \\ a_2 + 2d \\ \\ =\\ \\ a_1 + 3d  \\\\\n",
        "\\vdots\\\\\n",
        "a_k &\\ \\ =\\ \\ a_{(k-1)}+d \\ =\\  a_{(k-2)}+2d \\ =\\  \\ldots \\ =\\  \\ a_1+(k-1)d\n",
        "\\end{align*}\n",
        "\n",
        "Therefore, for $k>=1$,\n",
        "\n",
        "$$ a_k = a_1 + (k-1)d$$\n",
        "\n",
        "With $a_1$ and $d$ given.\n",
        "\n",
        "<br /> \n",
        "\n",
        "The sequence of the partial sum of the first $n$ terms of a sequence is called a series, in the case of an arithemetic sequence the series is called an arithmetic series.\n",
        "\n",
        "If  $a_1= 1$ and $d=1$ we have, the simplest arithmnetic sequence,  the natural numbers sequence $\\{a_k = k \\}$ for  $k=1, 2, ..., $  i.e. the seuqnece\n",
        "$$1, 2, ...,$$\n",
        "The  corresponmding series is \n",
        "$$ \n",
        "S_n = 1 + 2+ \\ldots + (n-1)+ n = \\sum_{k=1}^n k\n",
        "$$\n",
        "can be calculated as a function of $n$.\n",
        "\n",
        "Assume that we allign one $S_{n-1}$ with a second  $S_{n-1}$ that have the terms adden reverse order and you add term to term, we have\n",
        "\\begin{array}{llclclclclc}\n",
        "  S_{n-1} &=& 1 &+& 2 &+& \\ldots &+& (n-2) &+& (n-1) \\\\\n",
        "  S_{n-1} &=& (n-1)  &+& (n-2)  &+& \\ldots   &+& 2   &+& 1 \\\\\n",
        "   \\hline \\\\\n",
        "   2S_{n-1} &=& n  &+& n  &+& \\ldots   &+& n   &+& n \\\\\n",
        "\\end{array}\n",
        "so\n",
        "$$  2S_{n-1} = (n-1)n $$\n",
        "then\n",
        "$$  S_{n-1} = \\frac{1}{2} (n-1)n$$\n",
        "therefore \n",
        "$$  S_{n} = \\frac{1}{2} n(n+1)$$\n",
        "\n",
        "\n",
        "\\begin{align*}\n",
        "S_n &= \\sum_{k=1}^n a_k\t\\\\\n",
        "    &= \\sum_{k=1}^n[a_1+(k-1)d]\t\t\\\\\n",
        "    &= na_1 + d \\sum_{k=1}^n(k-1)\t\\\\\n",
        "    &= na_1 + d \\sum_{k=0}^{n-1} k\t\\\\\n",
        "    &= na_1 + d \\sum_{k=1}^{n-1} k\t\\\\\n",
        "    &= na_1 +  \\frac{1}{2} d(n-1)n\\\\\n",
        "\\end{align*}\n",
        "so \n",
        "$$ S_n =  \\frac{1}{2} n[2 a_1 +d(n-1)].$$\n",
        "\n",
        "Note, however, that\n",
        "$$a_1+a_n=a_1+[a_1+d(n-1)]=2a_1+d(n-1),$$ \t\n",
        "so\n",
        "$$S_n = \\frac{1}{2}n(a_1+a_n),$$\n",
        "\n",
        "\n",
        "or $n$ times the arithmetic mean of the first and last terms! This is the trick Gauss used as a schoolboy to solve the problem of summing the integers from $1$ to $100$ given as busy-work by his teacher. While his classmates toiled away doing the addition longhand, Gauss wrote a single number, the correct answer\n",
        "\n",
        "$$\\frac{1}{2}(100)(1+100)=50·101=5050$$ \t\n",
        "on his slate (Burton 1989, pp. 80-81; Hoffman 1998, p. 207). When the answers were examined, Gauss's proved to be the only correct one.\n",
        "\n",
        "<br /> \n",
        "\n",
        "If  the sequence starts at index $0$, $\\{a_k\\}$ for $ k=0, 1, 2, ..., $ we have\n",
        "\n",
        "\\begin{align*}\n",
        "a_0 & \\\\\n",
        "a_1 &\\ \\ =\\ \\ a_0 + d  \\\\\n",
        "a_2 &\\ \\ =\\ \\ a_1 + d \\ \\ =\\ \\ a_0 + 2d   \\\\\n",
        "a_3 &\\ \\ =\\ \\ a_2 + d \\ \\ =\\ \\ a_1 + 2d \\ \\ =\\ \\ a_0 + 3d  \\\\\n",
        "\\vdots\\\\\n",
        "a_k &\\ \\ =\\ \\ a_{(k-1)}+d \\ =\\  a_{(k-2)}+2d \\ =\\  \\ldots \\ = \\  \\ a_1+(k-1)d \\ \\ =\\ \\ a_0+kd\n",
        "\\end{align*}\n",
        "\n",
        "<br /> \n",
        "for given   $a_0$ and $d$.\n",
        "\n",
        "In this case the sum of the first $n$ terms  of  the arithemnetic sequence  is then given by\n",
        "\\begin{align*}\n",
        "S_n &= \\sum_{k=0}^{n-1} a_k\t\\\\\n",
        "    &= \\sum_{k=0}^{n-1}[a_0+kd]\t\t\\\\\n",
        "    &= n a_0 + d \\sum_{k=0}^{n-1} k\t\\\\\n",
        "    &= n a_0 + d \\sum_{k=1}^{n-1} k\t\\\\\n",
        "    &= n a_0+  \\frac{1}{2} d(n-1)n \\\\\n",
        "\\end{align*}\n",
        "so \n",
        "$$ S_n =  \\frac{1}{2} n[2 a_0 + d(n-1)].$$\n",
        "<br /> \n",
        "\n"
      ]
    },
    {
      "cell_type": "markdown",
      "metadata": {
        "id": "GfBh-QHRcods"
      },
      "source": [
        "### Code\n",
        "####  The simplest arithmetic sequence and series\n",
        "\n",
        "The simplest arithmnetic sequence is \n",
        "\n",
        "\n",
        "$$S_n = 1, 2, ...,$$"
      ]
    },
    {
      "cell_type": "markdown",
      "metadata": {
        "id": "n36eWqEXiktl"
      },
      "source": [
        "The following code plots the first $n = 15$ terms of the simplest arithmnetic sequence \n",
        "$$\\{a_n = n\\} \\text{ for } n =1,2,\\ldots  $$\n",
        "i.e\n",
        "$$\\{a_n = n\\} =1,2,\\ldots $$\n",
        "adn the corresponding terms of the simplest arithmnetic series \n",
        "$$  S_n = 1 + 2+ \\ldots + (n-1)+ n = \\sum_{k=1}^n =  \\frac{1}{2} n(n+1)$$\n"
      ]
    },
    {
      "cell_type": "markdown",
      "metadata": {
        "id": "_VyGiunIZknK"
      },
      "source": [
        "Plot"
      ]
    },
    {
      "cell_type": "code",
      "metadata": {
        "colab": {
          "base_uri": "https://localhost:8080/",
          "height": 282
        },
        "id": "gx3Q4uo-ONCi",
        "outputId": "eac3b2e8-d1ae-4e56-e0e9-05c2635606c2"
      },
      "source": [
        "import matplotlib.pyplot as plt\n",
        "\n",
        "n = 15\n",
        "S_n = 0\n",
        "Serie_S_n=[]\n",
        "Sequence_a_n =[]\n",
        "for i in range(1,n+1):\n",
        "  S_n = S_n + i\n",
        "  Serie_S_n.append(S_n)\n",
        "  Sequence_a_n.append(i)\n",
        " \n",
        "plt.plot(Serie_S_n, color='black',label='Serie_S_n')\n",
        "plt.plot(Sequence_a_n, color='red',label='Sequence_a_n')\n",
        "plt.legend()\n",
        "\n",
        "\n"
      ],
      "execution_count": null,
      "outputs": [
        {
          "output_type": "execute_result",
          "data": {
            "text/plain": [
              "<matplotlib.legend.Legend at 0x7fcf5efdb190>"
            ]
          },
          "metadata": {
            "tags": []
          },
          "execution_count": 24
        },
        {
          "output_type": "display_data",
          "data": {
            "image/png": "[encoded data removed]",
            "text/plain": [
              "<Figure size 432x288 with 1 Axes>"
            ]
          },
          "metadata": {
            "tags": [],
            "needs_background": "light"
          }
        }
      ]
    },
    {
      "cell_type": "markdown",
      "metadata": {
        "id": "0ybfJdHxZGvW"
      },
      "source": [
        "The following code computes the  $n=10000000$  term of the airthmetic series\n",
        "$$  S_n = 1 + 2+ \\ldots + (n-1)+ n = \\sum_{k=1}^n =  \\frac{1}{2} n(n+1)$$"
      ]
    },
    {
      "cell_type": "code",
      "metadata": {
        "colab": {
          "base_uri": "https://localhost:8080/"
        },
        "id": "99xYHDQycnol",
        "outputId": "f5c1399a-1428-4f9e-8a63-02254447ee60"
      },
      "source": [
        "n = 10000000\n",
        "S_n = 0\n",
        "for i in range(1,n+1):  # range(n+1) goes form 1 to n\n",
        "  S_n = S_n + i \n",
        "print(S_n)"
      ],
      "execution_count": null,
      "outputs": [
        {
          "output_type": "stream",
          "text": [
            "50000005000000\n"
          ],
          "name": "stdout"
        }
      ]
    },
    {
      "cell_type": "code",
      "metadata": {
        "colab": {
          "base_uri": "https://localhost:8080/"
        },
        "id": "RGCSuDGHeFwH",
        "outputId": "a813baea-83ca-44c5-dea0-619f19bb435a"
      },
      "source": [
        "(1/2)*n*(n+1)"
      ],
      "execution_count": null,
      "outputs": [
        {
          "output_type": "execute_result",
          "data": {
            "text/plain": [
              "50000005000000.0"
            ]
          },
          "metadata": {
            "tags": []
          },
          "execution_count": 3
        }
      ]
    },
    {
      "cell_type": "markdown",
      "metadata": {
        "id": "bg8zxAhcecpk"
      },
      "source": [
        "The following code computes the $n=10000000$ term of the airthmetic series \n",
        "$$ S_n  = \\sum_{k=1}^n a_k$$\n",
        "\n",
        "<br /> \n",
        "for the airthmetic sequence $a_k = 10 + 3 (k-1) $ for $k=1,2,\\ldots$\n",
        "\n",
        "<br /> \n",
        "$$ 10,13,16,19,21,\\ldots$$\n"
      ]
    },
    {
      "cell_type": "markdown",
      "metadata": {
        "id": "hg3ixQ3bZiVh"
      },
      "source": [
        "Plot"
      ]
    },
    {
      "cell_type": "code",
      "metadata": {
        "colab": {
          "base_uri": "https://localhost:8080/"
        },
        "id": "w8FP1XqSgnie",
        "outputId": "deebe6b5-bb5c-42ff-cd1e-66552bf8ee4e"
      },
      "source": [
        "n = 10000000\n",
        "a = 10\n",
        "d = 3\n",
        "S_n = 0\n",
        "for i in range(1,n+1):  # range(n+19 goes form 1 to n\n",
        "  S_n = S_n + a + d * (i-1) \n",
        "print(S_n)"
      ],
      "execution_count": null,
      "outputs": [
        {
          "output_type": "stream",
          "text": [
            "150000085000000\n"
          ],
          "name": "stdout"
        }
      ]
    },
    {
      "cell_type": "code",
      "metadata": {
        "colab": {
          "base_uri": "https://localhost:8080/"
        },
        "id": "g_38RfB_hgg2",
        "outputId": "d84efd2f-5271-4bb6-e6a3-9292c4f29a3e"
      },
      "source": [
        "n*(2*a +d*(n-1))/2"
      ],
      "execution_count": null,
      "outputs": [
        {
          "output_type": "execute_result",
          "data": {
            "text/plain": [
              "150000085000000.0"
            ]
          },
          "metadata": {
            "tags": []
          },
          "execution_count": 5
        }
      ]
    },
    {
      "cell_type": "markdown",
      "metadata": {
        "id": "r9qzONSlZq2q"
      },
      "source": [
        "## Your own example of arithmetic series "
      ]
    },
    {
      "cell_type": "markdown",
      "metadata": {
        "id": "DwBkOcVpa7JU"
      },
      "source": [
        "Now, we're going to calculate the next arithmetic series:\n",
        "$$ \\sum_{k = 10000} ^{20000} k $$\n",
        "In this case, We cannot use the previous formula $\\frac{n(n+1)}{2} $ because of the start of the sum is diferent to one.\n",
        "\n",
        "We need to reformulate the problem, for that we're going to do the next reduction.\n",
        "$$ \\sum_{k = 10000} ^{20000} = \\sum_{k = 1} ^{20000} - \\sum_{k = 1} ^{9999}$$\n",
        "\n",
        "That's done! now we can use the arithmetic series formula tu calculate the value of the sum.\n",
        "$$ \\sum_{k = 10000} ^{20000} = \\sum_{k = 1} ^{20000} - \\sum_{k = 1} ^{9999}$$\n",
        "$$ \\sum_{k = 10000} ^{20000} = \\frac{20000(20000-1)}{2} - \\frac{9999(9999-1)}{2}$$\n",
        "$$ \\sum_{k = 10000} ^{20000} = 200010000 - 49995000$$\n",
        "$$ \\sum_{k = 10000} ^{20000} = 150015000$$"
      ]
    },
    {
      "cell_type": "markdown",
      "metadata": {
        "id": "0cM-EwEOc58v"
      },
      "source": [
        "### Code"
      ]
    },
    {
      "cell_type": "code",
      "metadata": {
        "id": "sJ1yhp4lNVw9",
        "colab": {
          "base_uri": "https://localhost:8080/"
        },
        "outputId": "158bc88c-dc1d-46aa-cff4-e08090c91c4f"
      },
      "source": [
        "%%time\n",
        "sum = 0\n",
        "for i in range(10000, 20001):\n",
        "  sum = sum + i\n",
        "print(sum)"
      ],
      "execution_count": 6,
      "outputs": [
        {
          "output_type": "stream",
          "text": [
            "150015000\n",
            "CPU times: user 2.31 ms, sys: 0 ns, total: 2.31 ms\n",
            "Wall time: 2.31 ms\n"
          ],
          "name": "stdout"
        }
      ]
    },
    {
      "cell_type": "code",
      "metadata": {
        "colab": {
          "base_uri": "https://localhost:8080/"
        },
        "id": "1xTC1V0cekyB",
        "outputId": "beb55ef5-d301-4635-bcff-cf86e191c36c"
      },
      "source": [
        "%%time\n",
        "low = 10000\n",
        "high = 20000\n",
        "print(high*(high+1)//2 - low*(low+1)//2)"
      ],
      "execution_count": 8,
      "outputs": [
        {
          "output_type": "stream",
          "text": [
            "150005000\n",
            "CPU times: user 366 µs, sys: 65 µs, total: 431 µs\n",
            "Wall time: 394 µs\n"
          ],
          "name": "stdout"
        }
      ]
    },
    {
      "cell_type": "markdown",
      "metadata": {
        "id": "AKWJ1F7hac8T"
      },
      "source": [
        "# Geometric Series\n",
        "\n",
        "## Modified from Arithmetic Series -  [Wolfram MathWorld](https://mathworld.wolfram.com/GeometricSeries.html)\n"
      ]
    },
    {
      "cell_type": "markdown",
      "metadata": {
        "id": "W5zx_-nR81GI"
      },
      "source": [
        "An geometric series is the sum of a sequence $\\{a_k\\}$ for $k=1, 2, ..., $ in which each term is computed from the previous one by adding (or subtracting) a constant $d$. \n",
        "\n",
        "\\begin{align*}\n",
        "a_0 &\\ \\ =\\ \\ r^0 \\ \\ =\\ \\ 1\\\\\n",
        "a_1 &\\ \\ =\\ \\ a_0 *  r \\ \\ =\\ \\  r\\\\\n",
        "a_2 &\\ \\ =\\ \\ a_1 * r\\ \\ =\\ \\ a_0 * r^2  \\ \\ =\\ \\ r^2 \\\\\n",
        "a_3 &\\ \\ =\\ \\ a_2 * r \\ \\ =\\ \\ a_0 * r^3 \\ \\ =\\ \\  r^3  \\\\\n",
        "a_4 &\\ \\ =\\ \\ a_3 * r\\ \\  =\\ \\ a_0 * r^4 \\ \\  =\\ \\ r^4  \\\\\n",
        "\\vdots\\\\\n",
        "a_k &\\ \\ =\\ \\ a_{(k-1)}* r \\ =\\   a_0 * r^k \\ \\  =\\ \\  r^k\n",
        "\\end{align*}\n",
        "\n",
        "The sum of the first $n$ terms  of  the geometric sequence (called an geometric serie)  is then given by\n",
        "$$\n",
        "\\begin{array}{ll}\n",
        "S_n &=  1 + r + r^2 + \\cdots + r^{n-1} +r^n \\\\\n",
        " &=  (1 + r + r^2 + \\cdots + r^{n-1} ) +r^n \\\\\n",
        " &= S_{n-1}  +r^n \n",
        "\\end{array}\n",
        "$$\n",
        "\n",
        "$$\n",
        "\\begin{array}{ll}\n",
        "S_n &=  1 + r + r^2 + \\cdots + r^{n-1} +r^n \\\\\n",
        " &=  1 + (r + r^2 + \\cdots + r^{n-1}  +r^n)  \\\\\n",
        " &=   1 + r (1 +  r  + r^2 + \\cdots + r^{n-1} )  \\\\\n",
        "  &=   1 + r   S_{n-1} \n",
        "\\end{array}\n",
        "$$\n",
        "\n",
        "Then\n",
        "$$\n",
        " S_{n-1}  +r^n =   1 + r   S_{n-1} \n",
        "$$\n",
        "\n",
        "Therefore\n",
        "$$\n",
        " S_{n-1} (1 -r)   +r^n =   1 - r^n \n",
        "$$\n",
        "\n",
        "$$\n",
        " S_{n-1}   =   \\frac{1 - r^n }{1 -r}\n",
        "$$\n",
        "\n",
        "$$\n",
        " S_{n}   =   \\frac{1 - r^{n+1} }{1 -r}  = \\frac{ r^{n+1} - 1}{r -1}\n",
        "$$\n"
      ]
    },
    {
      "cell_type": "markdown",
      "metadata": {
        "id": "CDUYfT8k8crr"
      },
      "source": [
        "## Nodes in Complete Binary Tree with $L=0,1,2,\\cdots , L-1$ levels \n",
        "\n",
        "![](https://raw.githubusercontent.com/gjhernandezp/algorithms/master/Lab7/ComBinTree.png)\n",
        "\n",
        "In a complete binary tree you have in ecah level $k =0,1,2,\\cdots $  $ 2^k $\n",
        "\n",
        "$$\n",
        "\\begin{array}{ll}\n",
        "\\text {Level } 0 \\rightarrow 2^0 = 1 \\text { node (root)} \\\\\n",
        "\\text {Level } 1 \\rightarrow 2^1 = 2 \\text { nodes} \\\\\n",
        "\\text {Level } 2 \\rightarrow 2^2 = 4 \\text { nodes} \\\\\n",
        "\\text {Level } 3 \\rightarrow 2^3 = 8 \\text { nodes} \\\\\n",
        "\\vdots\\\\\n",
        "\\text {Level } k \\rightarrow 2^k  \\text { nodes} \\\\\n",
        "\\end{array}\n",
        "$$\n",
        "\n",
        "nodes, with $l = 0,1,2, ... $ the level\n",
        "\n",
        "Total number of the complte tree with $L=0,1,2,\\cdots , L-1$ levels\n",
        "\n",
        "$$ \n",
        "2^0 + 2^1 + 2^2 + \\cdots +2^{L-1}  = 1 + 2 + 4 + \\cdots +2^{L-1} = \\sum_{k=0}^{L-1} 2^k = \\frac{ 2^{L} - 1}{2 -1} = 2^{L} - 1\n",
        "$$"
      ]
    },
    {
      "cell_type": "markdown",
      "metadata": {
        "id": "YiWlrhLZNMX9"
      },
      "source": [
        "### Code"
      ]
    },
    {
      "cell_type": "code",
      "metadata": {
        "id": "YvMkYU8UNOll",
        "colab": {
          "base_uri": "https://localhost:8080/"
        },
        "outputId": "d0bfc88e-76fc-41c8-f7d3-adb67cab2e87"
      },
      "source": [
        "%%time \n",
        "L = 10000\n",
        "sum = 0\n",
        "for i in range(L):\n",
        "  sum = sum + 2**i\n",
        "print(sum)"
      ],
      "execution_count": 19,
      "outputs": [
        {
          "output_type": "stream",
          "text": [
            "19950631168807583848837421626835850838234968318861924548520089498529438830221946631919961684036194597899331129423209124271556491349413781117593785932096323957855730046793794526765246551266059895520550086918193311542508608460618104685509074866089624888090489894838009253941633257850621568309473902556912388065225096643874441046759871626985453222868538161694315775629640762836880760732228535091641476183956381458969463899410840960536267821064621427333394036525565649530603142680234969400335934316651459297773279665775606172582031407994198179607378245683762280037302885487251900834464581454650557929601414833921615734588139257095379769119277800826957735674444123062018757836325502728323789270710373802866393031428133241401624195671690574061419654342324638801248856147305207431992259611796250130992860241708340807605932320161268492288496255841312844061536738951487114256315111089745514203313820202931640957596464756010405845841566072044962867016515061920631004186422275908670900574606417856951911456055068251250406007519842261898059237118054444788072906395242548339221982707404473162376760846613033778706039803413197133493654622700563169937455508241780972810983291314403571877524768509857276937926433221599399876886660808368837838027643282775172273657572744784112294389733810861607423253291974813120197604178281965697475898164531258434135959862784130128185406283476649088690521047580882615823961985770122407044330583075869039319604603404973156583208672105913300903752823415539745394397715257455290510212310947321610753474825740775273986348298498340756937955646638621874569499279016572103701364433135817214311791398222983845847334440270964182851005072927748364550578634501100852987812389473928699540834346158807043959118985815145779177143619698728131459483783202081474982171858011389071228250905826817436220577475921417653715687725614904582904992461028630081535583308130101987675856234343538955409175623400844887526162643568648833519463720377293240094456246923254350400678027273837755376406726898636241037491410966718557050759098100246789880178271925953381282421954028302759408448955014676668389697996886241636313376393903373455801407636741877711055384225739499110186468219696581651485130494222369947714763069155468217682876200362777257723781365331611196811280792669481887201298643660768551639860534602297871557517947385246369446923087894265948217008051120322365496288169035739121368338393591756418733850510970271613915439590991598154654417336311656936031122249937969999226781732358023111862644575299135758175008199839236284615249881088960232244362173771618086357015468484058622329792853875623486556440536962622018963571028812361567512543338303270029097668650568557157505516727518899194129711337690149916181315171544007728650573189557450920330185304847113818315407324053319038462084036421763703911550639789000742853672196280903477974533320468368795868580237952218629120080742819551317948157624448298518461509704888027274721574688131594750409732115080498190455803416826949787141316063210686391511681774304792596709375\n",
            "CPU times: user 92.5 ms, sys: 0 ns, total: 92.5 ms\n",
            "Wall time: 94 ms\n"
          ],
          "name": "stdout"
        }
      ]
    },
    {
      "cell_type": "code",
      "metadata": {
        "colab": {
          "base_uri": "https://localhost:8080/"
        },
        "id": "rCsrjFfXgBW8",
        "outputId": "a25e5e5e-2822-4372-d983-5086e01604aa"
      },
      "source": [
        "%%time \n",
        "L = 10000\n",
        "print(2**L - 1)"
      ],
      "execution_count": 18,
      "outputs": [
        {
          "output_type": "stream",
          "text": [
            "19950631168807583848837421626835850838234968318861924548520089498529438830221946631919961684036194597899331129423209124271556491349413781117593785932096323957855730046793794526765246551266059895520550086918193311542508608460618104685509074866089624888090489894838009253941633257850621568309473902556912388065225096643874441046759871626985453222868538161694315775629640762836880760732228535091641476183956381458969463899410840960536267821064621427333394036525565649530603142680234969400335934316651459297773279665775606172582031407994198179607378245683762280037302885487251900834464581454650557929601414833921615734588139257095379769119277800826957735674444123062018757836325502728323789270710373802866393031428133241401624195671690574061419654342324638801248856147305207431992259611796250130992860241708340807605932320161268492288496255841312844061536738951487114256315111089745514203313820202931640957596464756010405845841566072044962867016515061920631004186422275908670900574606417856951911456055068251250406007519842261898059237118054444788072906395242548339221982707404473162376760846613033778706039803413197133493654622700563169937455508241780972810983291314403571877524768509857276937926433221599399876886660808368837838027643282775172273657572744784112294389733810861607423253291974813120197604178281965697475898164531258434135959862784130128185406283476649088690521047580882615823961985770122407044330583075869039319604603404973156583208672105913300903752823415539745394397715257455290510212310947321610753474825740775273986348298498340756937955646638621874569499279016572103701364433135817214311791398222983845847334440270964182851005072927748364550578634501100852987812389473928699540834346158807043959118985815145779177143619698728131459483783202081474982171858011389071228250905826817436220577475921417653715687725614904582904992461028630081535583308130101987675856234343538955409175623400844887526162643568648833519463720377293240094456246923254350400678027273837755376406726898636241037491410966718557050759098100246789880178271925953381282421954028302759408448955014676668389697996886241636313376393903373455801407636741877711055384225739499110186468219696581651485130494222369947714763069155468217682876200362777257723781365331611196811280792669481887201298643660768551639860534602297871557517947385246369446923087894265948217008051120322365496288169035739121368338393591756418733850510970271613915439590991598154654417336311656936031122249937969999226781732358023111862644575299135758175008199839236284615249881088960232244362173771618086357015468484058622329792853875623486556440536962622018963571028812361567512543338303270029097668650568557157505516727518899194129711337690149916181315171544007728650573189557450920330185304847113818315407324053319038462084036421763703911550639789000742853672196280903477974533320468368795868580237952218629120080742819551317948157624448298518461509704888027274721574688131594750409732115080498190455803416826949787141316063210686391511681774304792596709375\n",
            "CPU times: user 958 µs, sys: 0 ns, total: 958 µs\n",
            "Wall time: 963 µs\n"
          ],
          "name": "stdout"
        }
      ]
    },
    {
      "cell_type": "markdown",
      "metadata": {
        "id": "Dd3RWDwJe2xD"
      },
      "source": [
        "## Zenon Arrow\n",
        "\n",
        "![](https://raw.githubusercontent.com/gjhernandezp/algorithms/master/Lab7/zeno-paradox-arrow.png)\n",
        "\n",
        "https://leseditionsdeschavonnes.com/2018/10/15/the-paradox-of-achilles-and-the-tortoise/\n",
        "\n",
        "\n",
        "\n",
        "$$ \n",
        "\\lim_{n\\rightarrow \\infty} \\left\\{\\left(\\frac{1}{2}\\right)^0 + \\left(\\frac{1}{2}\\right)^1 +\\left(\\frac{1}{2}\\right)^2 + \\cdots +\\left(\\frac{1}{2}\\right)^{n} \\right\\} = \\lim_{n\\rightarrow \\infty} \\left\\{ 1 +\\frac{1}{2} + \\frac{1}{4} + \\frac{1}{8} + \\cdots +\\frac{1}{2^{n}}\\right\\}  = \\lim_{n\\rightarrow \\infty} \\sum_{k=0}^{n} \\left(\\frac{1}{2}\\right)^k = \\lim_{n\\rightarrow \\infty} \\frac{ 1- \\left(\\frac{1}{2}\\right)^n  }{1 - \\left(\\frac{1}{2}\\right) } = \\frac{ 1}{1 - \\left(\\frac{1}{2}\\right)} = 2\n",
        "$$"
      ]
    },
    {
      "cell_type": "markdown",
      "metadata": {
        "id": "R-J4EekBNPkd"
      },
      "source": [
        "## Your own example of Geometric series"
      ]
    },
    {
      "cell_type": "markdown",
      "metadata": {
        "id": "bPFHkWLTiNTg"
      },
      "source": [
        "We have the new secuence of circles.\n",
        "\n",
        "![image.png](data:image/png;base64,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)"
      ]
    },
    {
      "cell_type": "markdown",
      "metadata": {
        "id": "H3fG_F41iUm2"
      },
      "source": [
        "Now the goal is calculate the area of this infinity secuence of circles using a geometric serie."
      ]
    },
    {
      "cell_type": "markdown",
      "metadata": {
        "id": "HpotspYOiUiI"
      },
      "source": [
        "$$ A = 1 + \\frac{2}{3} + \\frac{4}{9} + \\frac{8}{27} \\cdots$$\n",
        "\n",
        "$$ A = \\sum_{k = 0}^{\\infty} \\left( \\frac{2}{3} \\right)^k $$\n",
        "\n",
        "Using the previous formula, the area is:\n",
        "\n",
        "$$ A = \\sum_{k = 0}^{\\infty} \\left( \\frac{2}{3} \\right)^k $$\n",
        "\n",
        "$$ A = \\frac{1}{1 - \\frac{2}{3}} $$\n",
        "\n",
        "$$ A = \\frac{1}{\\frac{1}{3}} $$\n",
        "\n",
        "$$ A = 3 $$"
      ]
    },
    {
      "cell_type": "code",
      "metadata": {
        "id": "8xdBovY3NEW_",
        "colab": {
          "base_uri": "https://localhost:8080/"
        },
        "outputId": "c1f4f65a-8587-47a3-c756-ffe420f70dbf"
      },
      "source": [
        "%%time \n",
        "# this is only an aproximation\n",
        "L = 10000000\n",
        "sum = 0\n",
        "for i in range(L):\n",
        "  sum = sum + (2/3)**i\n",
        "print(sum)"
      ],
      "execution_count": 22,
      "outputs": [
        {
          "output_type": "stream",
          "text": [
            "2.9999999999999987\n",
            "CPU times: user 2.43 s, sys: 5.21 ms, total: 2.43 s\n",
            "Wall time: 2.44 s\n"
          ],
          "name": "stdout"
        }
      ]
    },
    {
      "cell_type": "code",
      "metadata": {
        "colab": {
          "base_uri": "https://localhost:8080/"
        },
        "id": "G-UwcEMhhdZF",
        "outputId": "c290ab1c-f514-478c-beea-a213ed27d18a"
      },
      "source": [
        "%%time\n",
        "print(1/(1 - 2/3))"
      ],
      "execution_count": 21,
      "outputs": [
        {
          "output_type": "stream",
          "text": [
            "2.9999999999999996\n",
            "CPU times: user 0 ns, sys: 810 µs, total: 810 µs\n",
            "Wall time: 817 µs\n"
          ],
          "name": "stdout"
        }
      ]
    },
    {
      "cell_type": "markdown",
      "metadata": {
        "id": "dh2ntBeoNQlN"
      },
      "source": [
        "# Power Sums \n",
        "\n",
        "*   https://mathworld.wolfram.com/PowerSum.html\n",
        "*   https://www.researchgate.net/publication/331933608_The_Powers_Sums_Bernoulli_Numbers_Bernoulli_Polynomials_Rethinked\n",
        "*   https://en.wikipedia.org/wiki/Sums_of_powers\n",
        "\n"
      ]
    },
    {
      "cell_type": "markdown",
      "metadata": {
        "id": "1c0PGZPlk4Eq"
      },
      "source": [
        "A power sum is an infinite series of the form:\n",
        "\n",
        "$$ \\sum_{n=0}^{\\infty} a_n(x-c)^n = a_0 + a_1(x-c)^1 + a_2(x-c)^2 + a_3(x-c)^3 \\cdots $$"
      ]
    },
    {
      "cell_type": "markdown",
      "metadata": {
        "id": "KE3LBAzpljmV"
      },
      "source": [
        "where $a_n$ represents the coefficient of the $n-th$ term and $c$ is a constant. Power series are useful in mathematical analysis, where they arise as Taylor series of infinitely differentiable functions. In fact, Borel's theorem implies that every power series is the Taylor series of some smooth function. "
      ]
    },
    {
      "cell_type": "markdown",
      "metadata": {
        "id": "oXLDKFdHlu5L"
      },
      "source": [
        "## Your own example of Power sum"
      ]
    },
    {
      "cell_type": "markdown",
      "metadata": {
        "id": "2rCsX56Kl0fQ"
      },
      "source": [
        "You want to demotrate the Pythagorean trigonometric identity:\n",
        "$$ \\sin^2(x) + \\cos^2(x) = 1; \\forall x \\in \\mathbb{R} $$\n",
        "\n",
        "Now we know $\\sin(x)$ and $\\cos(x)$ have a representation in Power sums:\n",
        "\n",
        "$$ \\sin(x) = \\sum_{n=0}^{\\infty} \\frac{(-1)^n}{(2n+1)!}x^{2n+1}$$\n",
        "\n",
        "$$ \\cos(x) = \\sum_{n=0}^{\\infty} \\frac{(-1)^n}{(2n)!}x^{2n}$$\n",
        "\n",
        "Using the last formulas to show $ \\sin^2(x) + \\cos^2(x) = 1$\n",
        "\n",
        "$$ \\sin^2(x) + \\cos^2(x) = 1 $$\n",
        "\n",
        "$$ \\sum_{n=0}^{\\infty} \\frac{(-1)^n}{(2n+1)!}x^{2n+1} + \\sum_{n=0}^{\\infty} \\frac{(-1)^n}{(2n)!}x^{2n} = 1 $$\n",
        "\n",
        "$$ \\left (x - \\frac{x^3}{3!} + \\frac{x^5}{5!} - \\cdots \\right)^2 + \\left ( 1 - \\frac{x^2}{2!} + \\frac{x^4}{4!} - \\cdots \\right )^2 = 1 $$\n",
        "\n",
        "$$ \\left (x^2 - \\frac{x^4}{3} + \\frac{x^6}{45} - \\frac{x^8}{360} + \\frac{x^{10}}{14400} - \\cdots \\right) + \\left (1 -x^2 + \\frac{x^4}{3} - \\frac{x^6}{45} + \\frac{x^8}{360} - \\frac{x^{10}}{14400} + \\cdots \\right) = 1 $$\n",
        "\n",
        "$$ 1 = 1 $$\n",
        "\n",
        "Therefore, $\\sin^2(x) + \\cos^2(x) = 1$"
      ]
    },
    {
      "cell_type": "markdown",
      "metadata": {
        "id": "JQY0JFSjsIPG"
      },
      "source": [
        "### Code"
      ]
    },
    {
      "cell_type": "code",
      "metadata": {
        "colab": {
          "base_uri": "https://localhost:8080/"
        },
        "id": "AUz8dnn6sIBG",
        "outputId": "34098d88-cd2e-4ec6-b57c-40a09214997e"
      },
      "source": [
        "%%time \n",
        "import math\n",
        "import random\n",
        "\n",
        "n = 10000\n",
        "x = random.random()\n",
        "sin = 0\n",
        "for i in range(n):\n",
        "  sin = sin + (((-1)**i)/math.factorial(2*i+1))*x**(2*i+1)\n",
        "\n",
        "cos = 0\n",
        "for i in range(n):\n",
        "  cos = cos + (((-1)**i)/math.factorial(2*i))*x**(2*i)\n",
        "\n",
        "print(sin**2 + cos**2)\n"
      ],
      "execution_count": 37,
      "outputs": [
        {
          "output_type": "stream",
          "text": [
            "1.0000000000000002\n",
            "CPU times: user 1min 5s, sys: 96.9 ms, total: 1min 5s\n",
            "Wall time: 1min 5s\n"
          ],
          "name": "stdout"
        }
      ]
    },
    {
      "cell_type": "code",
      "metadata": {
        "colab": {
          "base_uri": "https://localhost:8080/"
        },
        "id": "LO4wM-dFsHgO",
        "outputId": "63b1cc59-41c5-4bb0-d210-737b6f3c10e5"
      },
      "source": [
        "%%time \n",
        "import math\n",
        "import random\n",
        "\n",
        "x = random.random()\n",
        "\n",
        "print(math.sin(x)**2 + math.cos(x)**2)\n"
      ],
      "execution_count": 38,
      "outputs": [
        {
          "output_type": "stream",
          "text": [
            "1.0\n",
            "CPU times: user 164 µs, sys: 4 µs, total: 168 µs\n",
            "Wall time: 175 µs\n"
          ],
          "name": "stdout"
        }
      ]
    }
  ]
}