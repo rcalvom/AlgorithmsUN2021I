{
  "nbformat": 4,
  "nbformat_minor": 0,
  "metadata": {
    "colab": {
      "name": "rcalvom21BlackjackGrClass2.ipynb",
      "provenance": [],
      "collapsed_sections": [],
      "authorship_tag": "ABX9TyNJmIxTwG11nYYr8eX3GDmP",
      "include_colab_link": true
    },
    "kernelspec": {
      "name": "python3",
      "display_name": "Python 3"
    },
    "language_info": {
      "name": "python"
    }
  },
  "cells": [
    {
      "cell_type": "markdown",
      "metadata": {
        "id": "view-in-github",
        "colab_type": "text"
      },
      "source": [
        "<a href=\"https://colab.research.google.com/github/rcalvom/AlgorithmsUN2021I/blob/master/Lab10/rcalvom21BlackjackGrClass2.ipynb\" target=\"_parent\"><img src=\"https://colab.research.google.com/assets/colab-badge.svg\" alt=\"Open In Colab\"/></a>"
      ]
    },
    {
      "cell_type": "markdown",
      "metadata": {
        "id": "nr2_piZbp6U0"
      },
      "source": [
        "##LAB 10 Monte Carlo – 21 Blackjack"
      ]
    },
    {
      "cell_type": "markdown",
      "metadata": {
        "id": "aaK7Xr_vp_li"
      },
      "source": [
        "1. Estimate the probability of getting a 21, the average number of cards required to complete 21 and plot the experimental distribution of the number of card required to complete 21 drawing cards sequentially from a shuffled Spanish 48-card deck with card values [1,2,3,4,5,6,7,10,11,12,1,2,3,4,5,6,7,8,9,10,11,12,1,2,3,4,5,6,7,8,9,10,11,12,1,2,3,4,5,6,7,8,9,10,11,12] and from a shuffled Poker 52-card with card values [1,2,3,4,5,6,7,8,9,10,11,12,13,1,2,3,4,5,6,7,8,9,10,11,12,13,1,2,3,4,5,6,7,8,9,10,11,12,13,1,2,3,4,5,6,7,8,9,10,11,12,13] using Montecarlo with 10 millions simulations."
      ]
    },
    {
      "cell_type": "code",
      "metadata": {
        "colab": {
          "base_uri": "https://localhost:8080/",
          "height": 364
        },
        "id": "i98W_SKgquiU",
        "outputId": "f0da5fa6-cd87-4bf2-f2a7-3fa65d34eee1"
      },
      "source": [
        "import random as r\n",
        "import matplotlib.pyplot as plt\n",
        "import numpy as np\n",
        "import statistics\n",
        "\n",
        "simulations = 10000000\n",
        "deck = [1, 2, 3, 4, 5, 6, 7, 10, 11, 12, 1, 2, 3, 4, 5, 6, 7, 8, 9, 10, 11, 12, 1, 2, 3, 4, 5, 6, 7, 8, 9, 10, 11, 12, 1, 2, 3, 4, 5, 6, 7, 8, 9, 10, 11, 12]\n",
        "\n",
        "wins = 0\n",
        "loses = 0\n",
        "\n",
        "list_cards = []\n",
        "\n",
        "for i in range(simulations):\n",
        "  current_deck = deck.copy()\n",
        "  count = 0\n",
        "  n_cards = 0\n",
        "  while count < 21:\n",
        "    pos = r.randrange(len(current_deck))\n",
        "    card = current_deck.pop(pos)\n",
        "    count += card\n",
        "    n_cards += 1\n",
        "  if count == 21:\n",
        "    wins += 1\n",
        "    list_cards.append(n_cards)\n",
        "  else:\n",
        "    loses += 1\n",
        "\n",
        "print(\"Total games = {0}\".format(simulations))\n",
        "print(\"Winns = {0}, Loses = {1}\".format(wins, loses))\n",
        "print(\"Estimated probability = {0}\".format(wins / simulations))\n",
        "print(\"Average number of cards = {0}\".format(statistics.mean(list_cards)))\n",
        "\n",
        "b = np.array(range(min(list_cards) - 1, max(list_cards) + 2) ) + 0.5\n",
        "plt.hist(list_cards, bins=b)\n",
        "plt.title(\"Histogram of number of cards to obtain 21\")\n",
        "plt.xlabel(\"Number of cards\")\n",
        "plt.ylabel(\"Frequency\")\n",
        "plt.show()"
      ],
      "execution_count": null,
      "outputs": [
        {
          "output_type": "stream",
          "text": [
            "Total games = 10000000\n",
            "Winns = 1586076, Loses = 8413924\n",
            "Estimated probability = 0.1586076\n",
            "Average number of cards = 3.4779657469125063\n"
          ],
          "name": "stdout"
        },
        {
          "output_type": "display_data",
          "data": {
            "image/png": "[encoded data removed]",
            "text/plain": [
              "<Figure size 432x288 with 1 Axes>"
            ]
          },
          "metadata": {
            "tags": [],
            "needs_background": "light"
          }
        }
      ]
    },
    {
      "cell_type": "code",
      "metadata": {
        "colab": {
          "base_uri": "https://localhost:8080/",
          "height": 364
        },
        "id": "NuTF27nD-ud3",
        "outputId": "83a0ee28-543d-46b1-cb4f-d7b3743fde75"
      },
      "source": [
        "import random as r\n",
        "import matplotlib.pyplot as plt\n",
        "import numpy as np\n",
        "import statistics\n",
        "\n",
        "simulations = 10000000\n",
        "deck = [1, 2, 3, 4, 5, 6, 7, 8, 9, 10, 11, 12, 13, 1, 2, 3, 4, 5, 6, 7, 8, 9, 10, 11, 12, 13, 1, 2, 3, 4, 5, 6, 7, 8, 9, 10, 11, 12, 13, 1, 2, 3, 4, 5, 6, 7, 8, 9, 10, 11, 12, 13]\n",
        "\n",
        "wins = 0\n",
        "loses = 0\n",
        "\n",
        "list_cards = []\n",
        "\n",
        "for i in range(simulations):\n",
        "  current_deck = deck.copy()\n",
        "  count = 0\n",
        "  n_cards = 0\n",
        "  while count < 21:\n",
        "    pos = r.randrange(len(current_deck))\n",
        "    card = current_deck.pop(pos)\n",
        "    count += card\n",
        "    n_cards += 1\n",
        "  if count == 21:\n",
        "    wins += 1\n",
        "    list_cards.append(n_cards)\n",
        "  else:\n",
        "    loses += 1\n",
        "\n",
        "print(\"Total games = {0}\".format(simulations))\n",
        "print(\"Winns = {0}, Loses = {1}\".format(wins, loses))\n",
        "print(\"Estimated probability = {0}\".format(wins / simulations))\n",
        "print(\"Average number of cards = {0}\".format(statistics.mean(list_cards)))\n",
        "\n",
        "b = np.array(range(min(list_cards) - 1, max(list_cards) + 2) ) + 0.5\n",
        "plt.hist(list_cards, bins=b)\n",
        "plt.title(\"Histogram of number of cards to obtain 21\")\n",
        "plt.xlabel(\"Number of cards\")\n",
        "plt.ylabel(\"Frequency\")\n",
        "plt.show()"
      ],
      "execution_count": null,
      "outputs": [
        {
          "output_type": "stream",
          "text": [
            "Total games = 10000000\n",
            "Winns = 1447961, Loses = 8552039\n",
            "Estimated probability = 0.1447961\n",
            "Average number of cards = 3.2150278909445764\n"
          ],
          "name": "stdout"
        },
        {
          "output_type": "display_data",
          "data": {
            "image/png": "[encoded data removed]",
            "text/plain": [
              "<Figure size 432x288 with 1 Axes>"
            ]
          },
          "metadata": {
            "tags": [],
            "needs_background": "light"
          }
        }
      ]
    },
    {
      "cell_type": "markdown",
      "metadata": {
        "id": "aYijQaQLqCIR"
      },
      "source": [
        "2. Estimate the probability of getting a 21, the average number of cards required to complete 21 and plot the experimental distribution of the number of card required to complete 21 drawing cards sequentially from a shuffled Spanish 48-card deck with card values [1,2,3,4,5,6,7,10,10,10,1,2,3,4,5,6,7,8,9,10,10,10,1,2,3,4,5,6,7,8,9,10,10,10,1,2,3,4,5,6,7,8,9,10,10,10] and from a shuffled Poker 52-card deck with card values [1,2,3,4,5,6,7,8,9,10,11,12,13,1,2,3,4,5,6,7,8,9,10,10,10,10,1,2,3,4,5,6,7,8,9,10,10,10,10,1,2,3,4,5,6,7,8,9,10,10,10,10] using Montecarlo with 10 millions simulations."
      ]
    },
    {
      "cell_type": "code",
      "metadata": {
        "colab": {
          "base_uri": "https://localhost:8080/",
          "height": 364
        },
        "id": "z2nk9gjRqu9j",
        "outputId": "1acbbd1d-694c-4487-e81a-cb50b7fb528f"
      },
      "source": [
        "import random as r\n",
        "import matplotlib.pyplot as plt\n",
        "import numpy as np \n",
        "import statistics\n",
        "\n",
        "simulations = 10000000\n",
        "deck = [1, 2, 3, 4, 5, 6, 7, 10, 10, 10, 1, 2, 3, 4, 5, 6, 7, 8, 9, 10, 10, 10, 1, 2, 3, 4, 5, 6, 7, 8, 9, 10, 10, 10, 1, 2, 3, 4, 5, 6, 7, 8, 9, 10, 10, 10]\n",
        "\n",
        "wins = 0\n",
        "loses = 0\n",
        "\n",
        "list_cards = []\n",
        "\n",
        "for i in range(simulations):\n",
        "  current_deck = deck.copy()\n",
        "  count = 0\n",
        "  n_cards = 0\n",
        "  while count < 21:\n",
        "    pos = r.randrange(len(current_deck))\n",
        "    card = current_deck.pop(pos)\n",
        "    count += card\n",
        "    n_cards += 1\n",
        "  if count == 21:\n",
        "    wins += 1\n",
        "    list_cards.append(n_cards)\n",
        "  else:\n",
        "    loses += 1\n",
        "\n",
        "print(\"Total games = {0}\".format(simulations))\n",
        "print(\"Winns = {0}, Loses = {1}\".format(wins, loses))\n",
        "print(\"Estimated probability = {0}\".format(wins / simulations))\n",
        "print(\"Average number of cards = {0}\".format(statistics.mean(list_cards)))\n",
        "\n",
        "b = np.array(range(min(list_cards) - 1, max(list_cards) + 2) ) + 0.5\n",
        "plt.hist(list_cards, bins=b)\n",
        "plt.title(\"Histogram of number of cards to obtain 21\")\n",
        "plt.xlabel(\"Number of cards\")\n",
        "plt.ylabel(\"Frequency\")\n",
        "plt.show()"
      ],
      "execution_count": null,
      "outputs": [
        {
          "output_type": "stream",
          "text": [
            "Total games = 10000000\n",
            "Winns = 1531887, Loses = 8468113\n",
            "Estimated probability = 0.1531887\n",
            "Average number of cards = 3.7497191372470686\n"
          ],
          "name": "stdout"
        },
        {
          "output_type": "display_data",
          "data": {
            "image/png": "[encoded data removed]",
            "text/plain": [
              "<Figure size 432x288 with 1 Axes>"
            ]
          },
          "metadata": {
            "tags": [],
            "needs_background": "light"
          }
        }
      ]
    },
    {
      "cell_type": "code",
      "metadata": {
        "colab": {
          "base_uri": "https://localhost:8080/",
          "height": 364
        },
        "id": "SGg9ydesAR8M",
        "outputId": "cc23439e-8733-4691-a75b-61643648aa07"
      },
      "source": [
        "import random as r\n",
        "import matplotlib.pyplot as plt\n",
        "import numpy as np \n",
        "import statistics\n",
        "\n",
        "simulations = 10000000\n",
        "deck = [1, 2, 3, 4, 5, 6, 7, 8, 9, 10, 11, 12, 13, 1, 2, 3, 4, 5, 6, 7, 8, 9, 10, 10, 10, 10, 1, 2, 3, 4, 5, 6, 7, 8, 9, 10, 10, 10, 10, 1, 2, 3, 4, 5, 6, 7, 8, 9, 10, 10, 10, 10]\n",
        "\n",
        "wins = 0\n",
        "loses = 0\n",
        "\n",
        "list_cards = []\n",
        "\n",
        "for i in range(simulations):\n",
        "  current_deck = deck.copy()\n",
        "  count = 0\n",
        "  n_cards = 0\n",
        "  while count < 21:\n",
        "    pos = r.randrange(len(current_deck))\n",
        "    card = current_deck.pop(pos)\n",
        "    count += card\n",
        "    n_cards += 1\n",
        "  if count == 21:\n",
        "    wins += 1\n",
        "    list_cards.append(n_cards)\n",
        "  else:\n",
        "    loses += 1\n",
        "\n",
        "print(\"Total games = {0}\".format(simulations))\n",
        "print(\"Winns = {0}, Loses = {1}\".format(wins, loses))\n",
        "print(\"Estimated probability = {0}\".format(wins / simulations))\n",
        "print(\"Average number of cards = {0}\".format(statistics.mean(list_cards)))\n",
        "\n",
        "b = np.array(range(min(list_cards) - 1, max(list_cards) + 2) ) + 0.5\n",
        "plt.hist(list_cards, bins=b)\n",
        "plt.title(\"Histogram of number of cards to obtain 21\")\n",
        "plt.xlabel(\"Number of cards\")\n",
        "plt.ylabel(\"Frequency\")\n",
        "plt.show()"
      ],
      "execution_count": null,
      "outputs": [
        {
          "output_type": "stream",
          "text": [
            "Total games = 10000000\n",
            "Winns = 1456543, Loses = 8543457\n",
            "Estimated probability = 0.1456543\n",
            "Average number of cards = 3.4228299473479327\n"
          ],
          "name": "stdout"
        },
        {
          "output_type": "display_data",
          "data": {
            "image/png": "[encoded data removed]",
            "text/plain": [
              "<Figure size 432x288 with 1 Axes>"
            ]
          },
          "metadata": {
            "tags": [],
            "needs_background": "light"
          }
        }
      ]
    },
    {
      "cell_type": "markdown",
      "metadata": {
        "id": "QJyFsLnXqUvV"
      },
      "source": [
        "3. Estimate the probability of getting a 21, the average total number of cards required to complete 21 and lot the experimental distribution of the number of card required to complete 21; assuming that you have in your hand the cards [7,7,5] and the remaining deck has n/2 cards for the regular Spanish 48-card deck and the Poker 52-card decks. You can pick the n/2 cards in the remaining deck in whatever way you choose but with restriction that this has maximum two 7s and three 5, you have to keep the remaining deck fixed through the Montecarlo simulations, use 10 million simulations."
      ]
    },
    {
      "cell_type": "code",
      "metadata": {
        "colab": {
          "base_uri": "https://localhost:8080/"
        },
        "id": "SV8jdqREqUdg",
        "outputId": "d75db53a-fd40-48a5-f006-69c1dc603692"
      },
      "source": [
        "import random as r\n",
        "import matplotlib.pyplot as plt\n",
        "import numpy as np\n",
        "import statistics\n",
        "\n",
        "simulations = 100\n",
        "deck = [1, 2, 3, 4, 5, 6, 7, 10, 11, 12, 1, 2, 3, 4, 5, 6, 7, 8, 9, 10, 11, 12, 1, 2, 3, 4, 5, 6, 7, 8, 9, 10, 11, 12, 1, 2, 3, 4, 5, 6, 7, 8, 9, 10, 11, 12]\n",
        "deck_size = len(deck)\n",
        "\n",
        "wins = 0\n",
        "loses = 0\n",
        "\n",
        "list_cards = []\n",
        "\n",
        "deck.pop(deck.index(7))\n",
        "deck.pop(deck.index(7))\n",
        "deck.pop(deck.index(5))\n",
        "\n",
        "for i in range(simulations):\n",
        "  current_deck = deck.copy()\n",
        "  while len(current_deck) > deck_size / 2:\n",
        "    current_deck.pop(r.randrange(len(current_deck)))\n",
        "  count = 0\n",
        "  n_cards = 0\n",
        "  while count < 21 - (7 + 7 + 5):\n",
        "    pos = r.randrange(len(current_deck))\n",
        "    card = current_deck.pop(pos)\n",
        "    count += card\n",
        "    n_cards += 1\n",
        "  if count == 21:\n",
        "    wins += 1\n",
        "    list_cards.append(n_cards)\n",
        "  else:\n",
        "    loses += 1\n",
        "\n",
        "print(\"Total games = {0}\".format(simulations))\n",
        "print(\"Winns = {0}, Loses = {1}\".format(wins, loses))\n",
        "print(\"Estimated probability = {0}\".format(wins / simulations))\n",
        "if len(list_cards) > 0:\n",
        "  print(\"Average number of cards = {0}\".format(statistics.mean(list_cards)))\n",
        "  b = np.array(range(min(list_cards) - 1, max(list_cards) + 2) ) + 0.5\n",
        "  plt.hist(list_cards, bins=b)\n",
        "  plt.title(\"Histogram of number of cards to obtain 21\")\n",
        "  plt.xlabel(\"Number of cards\")\n",
        "  plt.ylabel(\"Frequency\")\n",
        "  plt.show()\n",
        "else:\n",
        "  print(\"There are no successfull cases.\")\n",
        "\n"
      ],
      "execution_count": null,
      "outputs": [
        {
          "output_type": "stream",
          "text": [
            "Total games = 100\n",
            "Winns = 0, Loses = 100\n",
            "Estimated probability = 0.0\n",
            "There are no successfull cases.\n"
          ],
          "name": "stdout"
        }
      ]
    },
    {
      "cell_type": "code",
      "metadata": {
        "colab": {
          "base_uri": "https://localhost:8080/"
        },
        "id": "vUVklpxIMkQS",
        "outputId": "8097c31e-21a8-4e8c-b62d-8cb8396c1206"
      },
      "source": [
        "import random as r\n",
        "import matplotlib.pyplot as plt\n",
        "import numpy as np\n",
        "import statistics\n",
        "\n",
        "simulations = 100\n",
        "deck = [1, 2, 3, 4, 5, 6, 7, 10, 11, 12, 13, 1, 2, 3, 4, 5, 6, 7, 8, 9, 10, 11, 12, 13, 1, 2, 3, 4, 5, 6, 7, 8, 9, 10, 11, 12, 13, 1, 2, 3, 4, 5, 6, 7, 8, 9, 10, 11, 12, 13]\n",
        "deck_size = len(deck)\n",
        "\n",
        "wins = 0\n",
        "loses = 0\n",
        "\n",
        "list_cards = []\n",
        "\n",
        "deck.pop(deck.index(7))\n",
        "deck.pop(deck.index(7))\n",
        "deck.pop(deck.index(5))\n",
        "\n",
        "for i in range(simulations):\n",
        "  current_deck = deck.copy()\n",
        "  while len(current_deck) > deck_size / 2:\n",
        "    current_deck.pop(r.randrange(len(current_deck)))\n",
        "  count = 0\n",
        "  n_cards = 0\n",
        "  while count < 21 - (7 + 7 + 5):\n",
        "    pos = r.randrange(len(current_deck))\n",
        "    card = current_deck.pop(pos)\n",
        "    count += card\n",
        "    n_cards += 1\n",
        "  if count == 21:\n",
        "    wins += 1\n",
        "    list_cards.append(n_cards)\n",
        "  else:\n",
        "    loses += 1\n",
        "\n",
        "print(\"Total games = {0}\".format(simulations))\n",
        "print(\"Winns = {0}, Loses = {1}\".format(wins, loses))\n",
        "print(\"Estimated probability = {0}\".format(wins / simulations))\n",
        "if len(list_cards) > 0:\n",
        "  print(\"Average number of cards = {0}\".format(statistics.mean(list_cards)))\n",
        "  b = np.array(range(min(list_cards) - 1, max(list_cards) + 2) ) + 0.5\n",
        "  plt.hist(list_cards, bins=b)\n",
        "  plt.title(\"Histogram of number of cards to obtain 21\")\n",
        "  plt.xlabel(\"Number of cards\")\n",
        "  plt.ylabel(\"Frequency\")\n",
        "  plt.show()\n",
        "else:\n",
        "  print(\"There are no successfull cases.\")"
      ],
      "execution_count": null,
      "outputs": [
        {
          "output_type": "stream",
          "text": [
            "Total games = 100\n",
            "Winns = 0, Loses = 100\n",
            "Estimated probability = 0.0\n",
            "There are no successfull cases.\n"
          ],
          "name": "stdout"
        }
      ]
    },
    {
      "cell_type": "markdown",
      "metadata": {
        "id": "8mfGYJ0MqX68"
      },
      "source": [
        "4. Estimate and calculate analytically the probability of getting a 21, the average total number of cards required to complete 21 and the experimental distribution of the number of card required to complete 21; assuming that you have in your hand the cards [7,7,5] and the remaining deck has two possible sets of 8 cards for the regular Spanish 48-card deck and the Poker 52-card decks. The two possible remaining decks are a (hot deck) that contains four 1 cards and four 2 cards a (cold deck) with not 1 or 2 cards, for the estimations use Montecarlo with 10 million simulations."
      ]
    },
    {
      "cell_type": "markdown",
      "metadata": {
        "id": "7_RNivExM9Fj"
      },
      "source": [
        "To calculate analytically the probability, we are going to use the following formula:\n",
        "\n",
        "$$ P(X) = \\dfrac{\\text{successful cases}}{\\text{total cases}}$$\n",
        "\n",
        "\n",
        "$$ P(A \\cap B) = P(A) P(B)$$\n",
        "\n",
        "\n",
        "$$ X = ``\\text{Probability of getting 21\"}$$\n",
        "\n",
        "\n",
        "Next, we're going to calculate the probability using the previous formulas:\n",
        "\n",
        "**For hot deck:**\n",
        "\n",
        "In this case, we need to get either 1 or 2, the total number of cards is 8 (four 1, four 2)\n",
        "\n",
        "\n",
        "*   If we select a 1, we need to get again a 1\n",
        "*   If we select a 2, we don't need cards anymore\n",
        "\n",
        "So that:\n",
        "\n",
        "$$P(X) = \\dfrac{4}{8} + \\dfrac{4}{8}\\dfrac{3}{7}$$\n",
        "\n",
        "$$\\boxed{P(X) = 0.\\overline{714285}}$$\n",
        "\n",
        "**For cold deck:**\n",
        "\n",
        "In this case, we need to get either 1 or 2, the total number of cards is 52 - 3 - 4 (remember we have in our hands 7, 7, 5 and there are no 1 nor 2 cards)\n",
        "\n",
        "*  We cannot select a card so that the card plus the current sum is not greater than 21\n",
        "\n",
        "So that:\n",
        "\n",
        "$$\\boxed{P(X) = 0}$$\n",
        "\n",
        "The kind of deck does not take importance in this context."
      ]
    },
    {
      "cell_type": "markdown",
      "metadata": {
        "id": "iK5KpbbjWK-3"
      },
      "source": [
        "Code for hot deck"
      ]
    },
    {
      "cell_type": "code",
      "metadata": {
        "colab": {
          "base_uri": "https://localhost:8080/",
          "height": 364
        },
        "id": "KXjbpNhaqXSt",
        "outputId": "d5794687-8c49-4f58-a183-f3c181f81d59"
      },
      "source": [
        "import random as r\n",
        "import matplotlib.pyplot as plt\n",
        "import numpy as np \n",
        "import statistics\n",
        "\n",
        "simulations = 10000000\n",
        "deck = [1, 1, 1, 1, 2, 2, 2, 2]\n",
        "\n",
        "wins = 0\n",
        "loses = 0\n",
        "\n",
        "list_cards = []\n",
        "\n",
        "for i in range(simulations):\n",
        "  current_deck = deck.copy()\n",
        "  count = 7 + 7 + 5\n",
        "  n_cards = 0\n",
        "  while count < 21:\n",
        "    pos = r.randrange(len(current_deck))\n",
        "    card = current_deck.pop(pos)\n",
        "    count += card\n",
        "    n_cards += 1\n",
        "  if count == 21:\n",
        "    wins += 1\n",
        "    list_cards.append(n_cards)\n",
        "  else:\n",
        "    loses += 1\n",
        "\n",
        "print(\"Total games = {0}\".format(simulations))\n",
        "print(\"Winns = {0}, Loses = {1}\".format(wins, loses))\n",
        "print(\"Estimated probability = {0}\".format(wins / simulations))\n",
        "print(\"Average number of cards = {0}\".format(statistics.mean(list_cards)))\n",
        "\n",
        "b = np.array(range(min(list_cards) - 1, max(list_cards) + 2) ) + 0.5\n",
        "plt.hist(list_cards, bins=b)\n",
        "plt.title(\"Histogram of number of cards to obtain 21\")\n",
        "plt.xlabel(\"Number of cards\")\n",
        "plt.ylabel(\"Frequency\")\n",
        "plt.show()"
      ],
      "execution_count": null,
      "outputs": [
        {
          "output_type": "stream",
          "text": [
            "Total games = 10000000\n",
            "Winns = 7143701, Loses = 2856299\n",
            "Estimated probability = 0.7143701\n",
            "Average number of cards = 1.3000187157889167\n"
          ],
          "name": "stdout"
        },
        {
          "output_type": "display_data",
          "data": {
            "image/png": "[encoded data removed]",
            "text/plain": [
              "<Figure size 432x288 with 1 Axes>"
            ]
          },
          "metadata": {
            "tags": [],
            "needs_background": "light"
          }
        }
      ]
    },
    {
      "cell_type": "markdown",
      "metadata": {
        "id": "rbNswWazqbSB"
      },
      "source": [
        "5. Estimate the average amount of money (expected value) that Ben wins or losses on a weekend if Ben goes to Vegas every weekend (Friday, Saturday and Sunday), plays every weekend day 10 hours, each game takes 3 mins. Assume that for each game he gets two possibilities, in one he gets in his hand the cards [7,7,5] and a remaining hot deck with 8 cards in which case he bets \\$1000 this happens with probability 1/10; in the other one he gets no cards in his hand a complete shuffled deck in which case he bets \\$10, this happens with the remaining probability 9/10. Use 10000 Montecarlo simulations to estimated the expected amount of money that Ben wins or losses on a weekend for the Spanish 48-card deck and for a Poker 52-card deck."
      ]
    },
    {
      "cell_type": "code",
      "metadata": {
        "id": "ZVLAcLUwpcn0",
        "colab": {
          "base_uri": "https://localhost:8080/",
          "height": 367
        },
        "outputId": "9b73baa7-ba3f-404d-8532-66cccc30b0c2"
      },
      "source": [
        "import random as r\n",
        "import matplotlib.pyplot as plt\n",
        "import numpy as np \n",
        "import statistics\n",
        "\n",
        "simulations = 1000\n",
        "balance_list = []\n",
        "\n",
        "for i in range(simulations):\n",
        "  balance = 0\n",
        "  remaining_games = 3 * (10 * (60 * 60)) / (3 * 60)\n",
        "  while remaining_games > 0:\n",
        "    if r.random() > 0.9:\n",
        "      deck = [1, 1, 1, 1, 2, 2, 2, 2]\n",
        "      count = 7 + 7 + 5\n",
        "      while count < 21:\n",
        "        pos = r.randrange(len(deck))\n",
        "        card = deck.pop(pos)\n",
        "        count += card\n",
        "      if count == 21:\n",
        "        balance += 1000\n",
        "      else:\n",
        "        balance -= 1000\n",
        "    else:\n",
        "      deck = [1, 2, 3, 4, 5, 6, 7, 10, 11, 12, 1, 2, 3, 4, 5, 6, 7, 8, 9, 10, 11, 12, 1, 2, 3, 4, 5, 6, 7, 8, 9, 10, 11, 12, 1, 2, 3, 4, 5, 6, 7, 8, 9, 10, 11, 12]\n",
        "      count = 0\n",
        "      while count < 21:\n",
        "        pos = r.randrange(len(deck))\n",
        "        card = deck.pop(pos)\n",
        "        count += card\n",
        "      if count == 21:\n",
        "        balance += 10\n",
        "      else:\n",
        "        balance -= 10\n",
        "    remaining_games -= 1  \n",
        "  balance_list.append(balance)\n",
        "\n",
        "print(\"Total games = {0}\".format(simulations))\n",
        "print(\"Average balance = {0}\".format(statistics.mean(balance_list)))\n",
        "\n",
        "plt.hist(balance_list)\n",
        "plt.title(\"Histogram of balance\")\n",
        "plt.xlabel(\"Balance\")\n",
        "plt.ylabel(\"Frequency\")\n",
        "plt.show()\n",
        "\n",
        "print(balance_list)"
      ],
      "execution_count": 46,
      "outputs": [
        {
          "output_type": "stream",
          "text": [
            "Total games = 1000\n",
            "Average balance = 21994.75\n"
          ],
          "name": "stdout"
        },
        {
          "output_type": "display_data",
          "data": {
            "image/png": "[encoded data removed]",
            "text/plain": [
              "<Figure size 432x288 with 1 Axes>"
            ]
          },
          "metadata": {
            "tags": [],
            "needs_background": "light"
          }
        },
        {
          "output_type": "stream",
          "text": [
            "[21170, 14990, 22440, 24260, 24260, 21290, 26660, 18320, 27070, 21190, 23630, 12300, 19130, 18220, 20360, 23450, 14280, 34280, 26220, 14300, 29550, 26280, 16160, 16280, 13210, 16740, 18520, 20280, 26600, 20220, 10440, 23150, 29250, 9410, 26640, 19230, 20320, 9290, 19150, 23370, 21450, 16380, 27250, 25290, 21210, 33350, 21350, 24200, 33550, 14020, 25570, 31730, 14460, 24260, 11630, 25070, 13170, 16420, 23330, 37470, 23310, 21310, 24640, 20480, 27650, 31090, 24360, 27330, 26910, 27290, 25190, 16360, 21410, 22060, 29210, 22460, 19430, 19210, 14160, 26220, 14240, 20380, 27590, 22640, 15370, 7230, 17410, 27430, 22680, 17410, 6100, 10140, 13150, 13330, 5130, 17430, 16360, 22540, 16990, 25270, 15670, 13490, 22380, 35270, 48560, 21470, 7110, 32140, 29050, 23410, 20060, 25070, 26240, 30300, 19410, 26200, 24600, 31550, 27270, 11150, 31330, 25150, 23150, 17330, 23310, 34340, 32620, 23230, 30220, 17470, 20240, 23530, 18220, 16400, 28320, 13890, 13210, 13390, 13290, 25210, 25150, 39230, 26680, 12180, 13290, 15030, 27390, 32420, 9980, 16100, 13150, 25490, 33230, 18120, 17390, 31960, 28560, 28140, 23090, 11290, 14580, 32120, 280, 22380, 29470, 18160, 27390, 13110, 23330, 19530, 14460, 5940, 17390, 14400, 31230, 6520, 36480, 16320, 20760, 23130, 14560, 21430, 20360, 17290, 14460, 25670, 23210, 31470, 16320, 15270, 19170, 3270, 10220, 22140, 26400, 18440, 26660, 13430, 13370, 29290, 29350, 13530, 6300, 17070, 29310, 24400, 32400, 19960, 25490, 17070, 17390, 14260, 18380, 16360, 28120, 18500, -2630, 13210, 32620, 28280, 23110, 10080, 36600, 29490, 26000, 15920, 12040, 10120, 24240, 15310, 27270, 17210, 31150, 21290, 25270, 21430, 16240, 20420, 23610, 27530, 27370, 23770, 9350, 19170, 27450, 28460, 22180, 21610, 9470, 30300, 11410, 13230, 23450, 18400, 12820, 17490, 30160, 10440, 25410, 33410, 4460, 19470, 28320, 31550, 6380, 33270, 24460, 19150, 24300, 11880, 26480, 22280, 28340, 28340, 12930, 17070, 23150, 16560, 19290, 14520, 15090, 26240, 27230, 20440, 24380, 18300, 8120, 25390, 29270, 23550, 21110, 23530, 27170, 17490, 18260, 24660, 25270, 18360, 18420, 26870, 5960, 15450, 9470, 23270, 31350, 15290, 17390, 27530, 26480, 20400, 23210, 18950, 20260, 14240, 26440, 23450, 39510, 38500, 28340, 32260, 17570, 32020, 16020, 14120, 29650, 30420, 13190, 24360, 27250, 25490, 25450, 40320, 22640, 27370, 32260, 16910, 17210, 16280, 10360, 15390, 21490, 24100, 26500, 15310, 23980, 30280, 28460, 24480, 20220, 13130, 18240, 18280, 30160, 41430, 30380, 19470, 32400, 14140, 20420, 26220, 27940, 27210, 3370, 25530, 24120, 26180, 25370, 30140, 20360, 25110, 15130, 17110, 30400, 30240, 15410, 23960, 23350, 27130, 33670, 33590, 27310, 33270, 8260, 23630, 14200, 12300, 34100, 15430, 33310, 20300, 13390, 18020, 27310, 24360, 24020, 12480, 22140, 20340, 32660, 23130, 17270, 24970, 18020, 19270, 13960, 22180, 24300, 16320, 20360, 32160, 22910, 11430, 21030, 12380, 16260, 23390, 12180, 20340, 28280, 21110, 28320, 29190, 28140, 26380, 16180, 20420, 28280, 32040, 28380, 21330, 19190, 24540, 28460, 10180, 22300, 28320, 17490, 28260, 31390, 9470, 22460, 18180, 33530, 17920, 39450, 24340, 24360, 44440, 14220, 20460, 13250, 35030, 21250, 15270, 29690, 24320, 25530, 32360, 35170, 15130, 21390, 17150, 28140, 16320, 14300, 34600, 27670, 31450, 26540, 24440, 6380, 27370, 21310, 17840, 17230, 23230, 15170, 25310, 19230, 15290, 17410, 23310, 18180, 21370, 19290, 25310, 28140, 17310, 23430, 13710, 21230, 16300, 2930, 16990, 22990, 29530, 26280, 18300, 34300, 12260, 34140, 13430, 21190, 18340, 30240, 30380, 24160, 21270, 28380, 7550, 7390, 25670, 6140, 20680, 31450, 7370, 20870, 19370, 45230, 16040, 21150, 19940, 22620, 18140, 26460, 28460, 28060, 30240, 18280, 32500, 19330, 18440, 31350, 29150, 14420, 26060, 9090, 27550, 27230, 11670, 25820, 22360, 26680, 17230, 14950, 18000, 28440, 24160, 23330, 9110, 13230, 21250, 34540, 33170, 24760, 17570, 28380, 18500, 8910, 17150, 14200, 33410, 35310, 20160, 26500, 26220, 34500, 31550, 21090, 23030, 27570, 22120, 24120, 26180, 18220, 15390, 37530, 21430, 32400, 31190, 29230, 3370, 35760, 33170, 13010, 13170, 15430, 30420, 16380, 25170, 17290, 22500, 25430, 30790, 30160, 8620, 33430, 17490, 25370, 7550, 31410, 20300, 21370, 23150, 24520, 18260, 28500, 33390, 21920, 23450, 31310, 39610, 19090, 20120, 17510, 26950, 20500, 28280, 34260, 39770, 20180, 2120, 32800, 26560, 27210, 18360, 26540, 18440, 23490, 30360, 26560, 16360, 25310, 20360, 19210, 24520, 35490, 32200, 16060, 27270, 31630, 17270, 22400, 21610, 8400, 27130, 17980, 23610, 20420, 12260, 20200, 15450, 29330, 29210, 32500, 24140, 8280, 20640, 9290, 22560, 11190, 23490, 30420, 10640, 23330, 30300, 23390, 22280, 42680, 14100, 14200, 22180, 16240, 35170, 19210, 22040, 19490, 24180, 23610, 13210, 11410, 17510, 18540, 24200, 14860, 24700, 35250, 16120, 4260, 20260, 23070, 18540, 18260, 27070, 10810, 2040, 23110, 24220, 16300, 17230, 31270, 15330, 25470, 23250, 30340, 30380, 17110, 18380, 34200, 10910, 24560, 32480, 11210, 18870, 25190, 18620, 24500, 21210, 28200, 19510, 27430, 21010, 11250, 31250, 12300, 18020, 11210, 13230, 15330, 29450, 18890, 15110, 15330, 13170, 22440, 34480, 17450, 14520, 33270, 28120, 32540, 24620, 28420, 30160, 21210, 19610, 31450, 19860, 21390, 32420, 18400, 13370, 33270, 35170, 28360, 19390, 33430, 29190, 23350, 29110, 28100, 26220, 9690, 36180, 19370, 15710, 25170, 23270, 20260, 21940, 25130, 15330, 20240, 12440, 19880, 4260, 8320, 27310, 17050, 21730, 14180, 8300, 25270, 17010, 24340, 20620, 36500, 27270, 21390, 33170, 13230, 11130, 33470, 16990, 21510, 32380, 8260, 20280, 23130, 19310, 14360, 14540, 29370, 16420, 11190, 22400, 27840, 19630, 22380, 17370, 17290, 17450, 32420, 44600, 20300, 22000, 12120, 35920, 15250, 22320, 14640, 27490, 19170, 21050, 25270, 21190, 15290, 19510, 24560, 32140, 35430, 25730, 16480, 16160, 24200, 22460, 10360, 11230, 15050, 22080, 20890, 20240, 28880, 22480, 31610, 20500, 12440, 17310, 22990, 28400, 26540, 1370, 5270, 20930, 27410, 25170, 22520, 24200, 44360, 23350, 14140, 20480, 19430, 26200, 20990, 21430, 31390, 17090, 10300, 32440, 22500, 33150, 24180, 22540, 30200, 7230, 20360, 34420, 30020, 15350, 19430, 32360, 22240, 25190, 29350, 23370, 19310, 25150, 23410, 24280, 22300, 15250, 19450, 24220, 15390, 12440, 28260, 28500, 28660, 22260, 18140, 23170, 36080, 24200, 11370, 18970, 39090, 13370, 21310, 13330, 32300, 27150, 13150, 15430, 13090, 22240, 17070, 23490, 22140, 28950, 23390, 24320, 18040, 10280, 18080, 31270, 19430, 19430, 27670, 10440, 23330, 35290, 10160, 31940, 11390, 12360, 27390, 24380, 30180, 15350, 17130, 22400, 15490, 32280, 24480, 16520, 23410, 15010, 23050, 31510, 19510, 30480, 26400, 20200, 9270, 26680, 26600, 23430, 22040, 18180, 19110, 13130, 28020, 27370, 35350, 16400, 10420, 23230, 22600, 16680, 10420, 15450, 19430, 23430, 11010, 25470, 29630, 21370, 19250, 17350, 19310, 13390, 28280, 27370, 19490, 30540, 33310, 33290, 24100, 22040, 20260, 24220, 22380, 12220, 24540, 29110, 32220, 21110, 15130, 33310]\n"
          ],
          "name": "stdout"
        }
      ]
    }
  ]
}